{
  "nbformat": 4,
  "nbformat_minor": 0,
  "metadata": {
    "colab": {
      "name": "Udemy.ipynb",
      "provenance": [],
      "collapsed_sections": []
    },
    "kernelspec": {
      "name": "python3",
      "display_name": "Python 3"
    },
    "language_info": {
      "name": "python"
    }
  },
  "cells": [
    {
      "cell_type": "markdown",
      "source": [
        "Coding Quiz (1)\n",
        "Write a Python program to convert these numbers into string then into float types: 10,20,30,40,50,60,70,80,90,100"
      ],
      "metadata": {
        "id": "kTBG1eFz2-uE"
      }
    },
    {
      "cell_type": "code",
      "execution_count": 14,
      "metadata": {
        "colab": {
          "base_uri": "https://localhost:8080/"
        },
        "id": "yTRxASemvl84",
        "outputId": "4ad543cc-3a44-4de4-da88-19f146fdb1d2"
      },
      "outputs": [
        {
          "output_type": "stream",
          "name": "stdout",
          "text": [
            "10\n",
            "20\n",
            "30\n",
            "40\n",
            "50\n",
            "60\n",
            "70\n",
            "80\n",
            "90\n",
            "90\n",
            "90.0\n"
          ]
        }
      ],
      "source": [
        "\n",
        "numbers = range(1,10)\n",
        "for number in numbers:\n",
        "    x = number*10\n",
        "    print(x)\n",
        "y=str(x)\n",
        "print(y)\n",
        "z= float(x)\n",
        "print(z)\n"
      ]
    },
    {
      "cell_type": "markdown",
      "source": [
        "Coding Quiz (2)\n",
        "Write a program in python that take two string to complete and form a message that we can understand?\n",
        "msg =  \"python is ________  & _______  language and suitable for data analysis\""
      ],
      "metadata": {
        "id": "-JeGVQct27_f"
      }
    },
    {
      "cell_type": "code",
      "source": [
        "a = input (\"Enter your idea:\")\n",
        "b = input (\"Enter your idea:\")\n",
        "msg=\"python is\" + a + \"&\" + b + \"language and suitable for data analysis\"\n",
        "print(msg)"
      ],
      "metadata": {
        "id": "aXi_tP5z29Tl",
        "colab": {
          "base_uri": "https://localhost:8080/"
        },
        "outputId": "3da9c696-88b4-4be7-f425-50d9b96c9123"
      },
      "execution_count": 15,
      "outputs": [
        {
          "output_type": "stream",
          "name": "stdout",
          "text": [
            "Enter your idea:Good \n",
            "Enter your idea:Best\n",
            "python isGood &Bestlanguage and suitable for data analysis\n"
          ]
        }
      ]
    },
    {
      "cell_type": "markdown",
      "source": [
        "Coding Quiz (3)\n",
        "\n",
        "Write  a program in python to declare the name of this programming language and calculate length of this name."
      ],
      "metadata": {
        "id": "mr2hiem6Zd9H"
      }
    },
    {
      "cell_type": "code",
      "source": [
        "a = input (\"Enter your idea:\")\n",
        "b = input (\"Enter your idea:\")\n",
        "msg=\"python is\" + a + \"&\" + b + \"language and suitable for data analysis\"\n",
        "print(msg)\n",
        "print(len(msg))\n",
        "print(len(a))\n",
        "print(len(a[0:4]))\n",
        "print(a[0:4])"
      ],
      "metadata": {
        "id": "h_E7tbdgakwt",
        "colab": {
          "base_uri": "https://localhost:8080/"
        },
        "outputId": "39a8db54-200b-453d-df03-41b829fe1d4e"
      },
      "execution_count": 16,
      "outputs": [
        {
          "output_type": "stream",
          "name": "stdout",
          "text": [
            "Enter your idea:Best\n",
            "Enter your idea:Good \n",
            "python isBest&Good language and suitable for data analysis\n",
            "58\n",
            "4\n",
            "4\n",
            "Best\n"
          ]
        }
      ]
    },
    {
      "cell_type": "markdown",
      "source": [
        "Coding Quiz (4)\n",
        "\n",
        "Write a program in python to declare a message for an instructing sign in public place and get the length of that message and count of message letters:"
      ],
      "metadata": {
        "id": "QWzPm4dFbXb0"
      }
    },
    {
      "cell_type": "code",
      "source": [
        "message = \"my favorite language is persian\"\n",
        "print(len(message))"
      ],
      "metadata": {
        "colab": {
          "base_uri": "https://localhost:8080/"
        },
        "id": "QsAzrbbwbjUZ",
        "outputId": "6bdb7114-9dfa-4aeb-9686-cc48df2b88d5"
      },
      "execution_count": 17,
      "outputs": [
        {
          "output_type": "stream",
          "name": "stdout",
          "text": [
            "31\n"
          ]
        }
      ]
    },
    {
      "cell_type": "code",
      "source": [
        "message.count('a')"
      ],
      "metadata": {
        "colab": {
          "base_uri": "https://localhost:8080/"
        },
        "id": "B0mlkv7AhoMP",
        "outputId": "8ab8c288-95dc-4048-c24f-702c23cb97c6"
      },
      "execution_count": 18,
      "outputs": [
        {
          "output_type": "execute_result",
          "data": {
            "text/plain": [
              "4"
            ]
          },
          "metadata": {},
          "execution_count": 18
        }
      ]
    },
    {
      "cell_type": "code",
      "source": [
        "message.count('v',3) #in order to count from index 3 to end"
      ],
      "metadata": {
        "colab": {
          "base_uri": "https://localhost:8080/"
        },
        "id": "72hBloNekUc0",
        "outputId": "38f69c58-627f-40df-f7f6-d1f1426b1bee"
      },
      "execution_count": 19,
      "outputs": [
        {
          "output_type": "execute_result",
          "data": {
            "text/plain": [
              "1"
            ]
          },
          "metadata": {},
          "execution_count": 19
        }
      ]
    },
    {
      "cell_type": "code",
      "source": [
        "message.count('g',0,25) #in order to count from index 0 to 30"
      ],
      "metadata": {
        "colab": {
          "base_uri": "https://localhost:8080/"
        },
        "id": "bFk-jog2kjR5",
        "outputId": "da05865d-3d09-4544-84ed-1c13890fc9c1"
      },
      "execution_count": 20,
      "outputs": [
        {
          "output_type": "execute_result",
          "data": {
            "text/plain": [
              "2"
            ]
          },
          "metadata": {},
          "execution_count": 20
        }
      ]
    },
    {
      "cell_type": "markdown",
      "source": [
        "Coding Quiz (5)\n",
        "\n",
        "Write a program in python to count to count the vowels in the following string:\n",
        "\" are you working as a Python programmer ?\""
      ],
      "metadata": {
        "id": "cYoGgfUmlA9f"
      }
    },
    {
      "cell_type": "code",
      "source": [
        "c = \" are you working as a Python programmer ?\"\n",
        "c.count('a')"
      ],
      "metadata": {
        "colab": {
          "base_uri": "https://localhost:8080/"
        },
        "id": "JhDI5HsMk6jZ",
        "outputId": "0ca6ecbf-4a6c-4dac-88ee-771532cf9f59"
      },
      "execution_count": 21,
      "outputs": [
        {
          "output_type": "execute_result",
          "data": {
            "text/plain": [
              "4"
            ]
          },
          "metadata": {},
          "execution_count": 21
        }
      ]
    },
    {
      "cell_type": "code",
      "source": [
        "c.count('e')"
      ],
      "metadata": {
        "colab": {
          "base_uri": "https://localhost:8080/"
        },
        "id": "PrrDoewSlTmn",
        "outputId": "984bb386-a92d-428f-c2fe-d4824a3798c9"
      },
      "execution_count": 22,
      "outputs": [
        {
          "output_type": "execute_result",
          "data": {
            "text/plain": [
              "2"
            ]
          },
          "metadata": {},
          "execution_count": 22
        }
      ]
    },
    {
      "cell_type": "code",
      "source": [
        "c.count('o')"
      ],
      "metadata": {
        "colab": {
          "base_uri": "https://localhost:8080/"
        },
        "id": "YNSkhCnelbzK",
        "outputId": "652880d4-ea72-4e10-f806-6290cdcdba52"
      },
      "execution_count": 23,
      "outputs": [
        {
          "output_type": "execute_result",
          "data": {
            "text/plain": [
              "4"
            ]
          },
          "metadata": {},
          "execution_count": 23
        }
      ]
    },
    {
      "cell_type": "code",
      "source": [
        "c.count('i')"
      ],
      "metadata": {
        "colab": {
          "base_uri": "https://localhost:8080/"
        },
        "id": "cPYqURe_lnyW",
        "outputId": "9832ee55-a2f0-48e7-eb58-00dacd34d2fd"
      },
      "execution_count": 24,
      "outputs": [
        {
          "output_type": "execute_result",
          "data": {
            "text/plain": [
              "1"
            ]
          },
          "metadata": {},
          "execution_count": 24
        }
      ]
    },
    {
      "cell_type": "code",
      "source": [
        "c.count('u')"
      ],
      "metadata": {
        "colab": {
          "base_uri": "https://localhost:8080/"
        },
        "id": "4n2WD1-alpjw",
        "outputId": "a6ace34f-d73d-4a65-bfd1-f7ef92d12ffe"
      },
      "execution_count": 25,
      "outputs": [
        {
          "output_type": "execute_result",
          "data": {
            "text/plain": [
              "1"
            ]
          },
          "metadata": {},
          "execution_count": 25
        }
      ]
    },
    {
      "cell_type": "markdown",
      "source": [
        "Coding Quiz (6)\n",
        "\n",
        "Write  a program in python to declare four messages to the community of technology that the Python programming language is wonderful but describe python with  a different description in each message you will write , so with one message withe one python description then answer the following questions:\n",
        "How long each message you write is?\n",
        "what is the count of a specific letter in each message you will write?\n",
        "are the codes you write end with \"l\"?\n",
        "are the codes you write start with \"T\"?"
      ],
      "metadata": {
        "id": "ESaAO_96nv2y"
      }
    },
    {
      "cell_type": "code",
      "source": [
        "x = \"I love python language\"\n",
        "O = \"Python is a powerful language\"\n",
        "P = \"the python language is useful for computer vision\"\n",
        "U = \"python is elegant\"\n",
        "print(len(x))\n",
        "print(len(O))\n",
        "print(len(P))\n",
        "print(len(U))\n",
        "x.count(\"I\")\n",
        "O.count(\"p\")\n",
        "P.count(\"o\")\n",
        "U.count(\"e\")\n",
        "x.endswith(\"e\")\n"
      ],
      "metadata": {
        "id": "W4BuziL-lrqt",
        "colab": {
          "base_uri": "https://localhost:8080/"
        },
        "outputId": "e4e1ea6a-8150-4c73-c9fe-e5436c9a5019"
      },
      "execution_count": 26,
      "outputs": [
        {
          "output_type": "stream",
          "name": "stdout",
          "text": [
            "22\n",
            "29\n",
            "49\n",
            "17\n"
          ]
        },
        {
          "output_type": "execute_result",
          "data": {
            "text/plain": [
              "True"
            ]
          },
          "metadata": {},
          "execution_count": 26
        }
      ]
    },
    {
      "cell_type": "code",
      "source": [
        ""
      ],
      "metadata": {
        "id": "wDpJzvwhSNVq"
      },
      "execution_count": 26,
      "outputs": []
    },
    {
      "cell_type": "code",
      "source": [
        "P.endswith(\"P\")"
      ],
      "metadata": {
        "colab": {
          "base_uri": "https://localhost:8080/"
        },
        "id": "VL6s4cugNhXP",
        "outputId": "110a99b1-b30f-4a90-98b6-c164c38db009"
      },
      "execution_count": 27,
      "outputs": [
        {
          "output_type": "execute_result",
          "data": {
            "text/plain": [
              "False"
            ]
          },
          "metadata": {},
          "execution_count": 27
        }
      ]
    },
    {
      "cell_type": "code",
      "source": [
        "U.endswith(\"m\")"
      ],
      "metadata": {
        "colab": {
          "base_uri": "https://localhost:8080/"
        },
        "id": "kCJzJ89wOnEz",
        "outputId": "f360e566-c5b5-4662-b195-8ecd9371253e"
      },
      "execution_count": 28,
      "outputs": [
        {
          "output_type": "execute_result",
          "data": {
            "text/plain": [
              "False"
            ]
          },
          "metadata": {},
          "execution_count": 28
        }
      ]
    },
    {
      "cell_type": "markdown",
      "source": [
        "string.find(value, start, end)"
      ],
      "metadata": {
        "id": "Msri9KWPQvDc"
      }
    },
    {
      "cell_type": "markdown",
      "source": [
        "Coding Quiz (7)\n",
        "\n",
        "Write a program in python contain string \"Don't turn left!\" and then check if this string contain ( '!') and('m')"
      ],
      "metadata": {
        "id": "NfEyq3HB9w9e"
      }
    },
    {
      "cell_type": "code",
      "source": [
        "T = \"Don't turn left \"\n",
        "T.find('i')\n",
        "T.find('m')"
      ],
      "metadata": {
        "id": "Id6wdqWpOsbP",
        "colab": {
          "base_uri": "https://localhost:8080/"
        },
        "outputId": "f2a8daf3-f1b1-405f-efd0-3dfd829e9f77"
      },
      "execution_count": 29,
      "outputs": [
        {
          "output_type": "execute_result",
          "data": {
            "text/plain": [
              "-1"
            ]
          },
          "metadata": {},
          "execution_count": 29
        }
      ]
    },
    {
      "cell_type": "code",
      "source": [
        "T.index('t')"
      ],
      "metadata": {
        "colab": {
          "base_uri": "https://localhost:8080/"
        },
        "id": "C-x_N3Ty-PAt",
        "outputId": "353b73d6-40cf-4fb0-8771-c173fa60ea6d"
      },
      "execution_count": 31,
      "outputs": [
        {
          "output_type": "execute_result",
          "data": {
            "text/plain": [
              "4"
            ]
          },
          "metadata": {},
          "execution_count": 31
        }
      ]
    },
    {
      "cell_type": "markdown",
      "source": [
        "Coding Quiz (8)\n",
        "\n",
        "write a program in python contain  a string message for an electrical instructional sign in the street warning the cars drivers that they don't to turn left.\n",
        "then check the string case.\n",
        "then make it in upper case  in one code\n",
        "finally make it in lower case in a second code.\n",
        "Head to the next Hy"
      ],
      "metadata": {
        "id": "4VE_fHXk_j26"
      }
    },
    {
      "cell_type": "code",
      "source": [
        "w=\"Don't turn left\"\n",
        "w.isupper() "
      ],
      "metadata": {
        "colab": {
          "base_uri": "https://localhost:8080/"
        },
        "id": "6EGl8ACV-iHy",
        "outputId": "356c5f7c-55fd-4247-8b5b-baa330957f8d"
      },
      "execution_count": 32,
      "outputs": [
        {
          "output_type": "execute_result",
          "data": {
            "text/plain": [
              "False"
            ]
          },
          "metadata": {},
          "execution_count": 32
        }
      ]
    },
    {
      "cell_type": "code",
      "source": [
        "w.islower()"
      ],
      "metadata": {
        "colab": {
          "base_uri": "https://localhost:8080/"
        },
        "id": "ZpYiuxz1_-Y4",
        "outputId": "88bfb3af-38c0-40b9-df96-2d1cfa26a5c8"
      },
      "execution_count": 33,
      "outputs": [
        {
          "output_type": "execute_result",
          "data": {
            "text/plain": [
              "False"
            ]
          },
          "metadata": {},
          "execution_count": 33
        }
      ]
    },
    {
      "cell_type": "code",
      "source": [
        "w.upper()"
      ],
      "metadata": {
        "colab": {
          "base_uri": "https://localhost:8080/",
          "height": 36
        },
        "id": "tzwY9JHtABnB",
        "outputId": "bdcfbc90-2df5-4fb3-fb45-59a7ee37b91f"
      },
      "execution_count": 34,
      "outputs": [
        {
          "output_type": "execute_result",
          "data": {
            "text/plain": [
              "\"DON'T TURN LEFT\""
            ],
            "application/vnd.google.colaboratory.intrinsic+json": {
              "type": "string"
            }
          },
          "metadata": {},
          "execution_count": 34
        }
      ]
    },
    {
      "cell_type": "code",
      "source": [
        "w.lower()"
      ],
      "metadata": {
        "colab": {
          "base_uri": "https://localhost:8080/",
          "height": 36
        },
        "id": "aefLvXu3AGiz",
        "outputId": "76b10413-1f6b-44dd-b795-0f06dad70a08"
      },
      "execution_count": 35,
      "outputs": [
        {
          "output_type": "execute_result",
          "data": {
            "text/plain": [
              "\"don't turn left\""
            ],
            "application/vnd.google.colaboratory.intrinsic+json": {
              "type": "string"
            }
          },
          "metadata": {},
          "execution_count": 35
        }
      ]
    },
    {
      "cell_type": "markdown",
      "source": [
        "Coding Quiz (9)\n",
        "\n",
        "write a program in python to declare that The coding is fun, then replace the word 'fun' with  the 'awesome' and then remove the word ' The' :"
      ],
      "metadata": {
        "id": "ORrtwHgsA5Ys"
      }
    },
    {
      "cell_type": "code",
      "source": [
        "Q=\"The coding is fun!\"\n",
        "Q.replace('fun','awesome')\n"
      ],
      "metadata": {
        "colab": {
          "base_uri": "https://localhost:8080/",
          "height": 36
        },
        "id": "QfNqtzB0AI7J",
        "outputId": "b2a3f731-169a-482e-f713-636c040484f4"
      },
      "execution_count": 36,
      "outputs": [
        {
          "output_type": "execute_result",
          "data": {
            "text/plain": [
              "'The coding is awesome!'"
            ],
            "application/vnd.google.colaboratory.intrinsic+json": {
              "type": "string"
            }
          },
          "metadata": {},
          "execution_count": 36
        }
      ]
    },
    {
      "cell_type": "code",
      "source": [
        "Q.strip('The')\n",
        "#strip for remove char"
      ],
      "metadata": {
        "colab": {
          "base_uri": "https://localhost:8080/",
          "height": 36
        },
        "id": "HwUvdTO1CJ0y",
        "outputId": "d511ff2d-85bb-4f90-9786-f0990e616dad"
      },
      "execution_count": 37,
      "outputs": [
        {
          "output_type": "execute_result",
          "data": {
            "text/plain": [
              "' coding is fun!'"
            ],
            "application/vnd.google.colaboratory.intrinsic+json": {
              "type": "string"
            }
          },
          "metadata": {},
          "execution_count": 37
        }
      ]
    },
    {
      "cell_type": "markdown",
      "source": [
        "Coding Quiz (10)\n",
        "\n",
        "Run the following lines of coding to see the result:\n",
        "string = 'python is powerful language'\n",
        "string.capitalize()\n",
        "string = '1st programming language'\n",
        "string.capitalize()\n",
        "string = 'pYTHON IS POWERFUL PROGRAMMING LANGUAGE'\n",
        "string.swapcase()\n",
        "string = 'Python the powerful programming language'\n",
        "string.title()"
      ],
      "metadata": {
        "id": "wsJ-wyGo2lKN"
      }
    },
    {
      "cell_type": "code",
      "source": [
        "string = 'python is powerful language'\n",
        "string.capitalize()"
      ],
      "metadata": {
        "id": "Q6gxuF-fCW4m",
        "colab": {
          "base_uri": "https://localhost:8080/",
          "height": 36
        },
        "outputId": "b78fc0e0-cc04-4f5d-dfe2-195b31c81d90"
      },
      "execution_count": 38,
      "outputs": [
        {
          "output_type": "execute_result",
          "data": {
            "text/plain": [
              "'Python is powerful language'"
            ],
            "application/vnd.google.colaboratory.intrinsic+json": {
              "type": "string"
            }
          },
          "metadata": {},
          "execution_count": 38
        }
      ]
    },
    {
      "cell_type": "code",
      "source": [
        "string = '1st programming language'\n",
        "string.capitalize()"
      ],
      "metadata": {
        "id": "kQ5c2Wbz3PWx",
        "colab": {
          "base_uri": "https://localhost:8080/",
          "height": 36
        },
        "outputId": "d72deaea-4ae3-4cd2-8e1e-993f0b4b7d3a"
      },
      "execution_count": 39,
      "outputs": [
        {
          "output_type": "execute_result",
          "data": {
            "text/plain": [
              "'1st programming language'"
            ],
            "application/vnd.google.colaboratory.intrinsic+json": {
              "type": "string"
            }
          },
          "metadata": {},
          "execution_count": 39
        }
      ]
    },
    {
      "cell_type": "code",
      "source": [
        "string = 'pYTHON IS POWERFUL PROGRAMMING LANGUAGE'\n",
        "string.swapcase()"
      ],
      "metadata": {
        "colab": {
          "base_uri": "https://localhost:8080/",
          "height": 36
        },
        "id": "Rwzp25w-pFsi",
        "outputId": "1205659b-fc31-4345-855f-85447bcdc5d0"
      },
      "execution_count": 40,
      "outputs": [
        {
          "output_type": "execute_result",
          "data": {
            "text/plain": [
              "'Python is powerful programming language'"
            ],
            "application/vnd.google.colaboratory.intrinsic+json": {
              "type": "string"
            }
          },
          "metadata": {},
          "execution_count": 40
        }
      ]
    },
    {
      "cell_type": "code",
      "source": [
        "string = 'Python the powerful programming language'\n",
        "string.title()"
      ],
      "metadata": {
        "colab": {
          "base_uri": "https://localhost:8080/",
          "height": 36
        },
        "id": "k5pHwAzrpRDW",
        "outputId": "89b38896-2f18-4e88-9c82-4634531cd447"
      },
      "execution_count": 41,
      "outputs": [
        {
          "output_type": "execute_result",
          "data": {
            "text/plain": [
              "'Python The Powerful Programming Language'"
            ],
            "application/vnd.google.colaboratory.intrinsic+json": {
              "type": "string"
            }
          },
          "metadata": {},
          "execution_count": 41
        }
      ]
    },
    {
      "cell_type": "markdown",
      "source": [
        "\\ newline ignored"
      ],
      "metadata": {
        "id": "XtY9M16hqK2R"
      }
    },
    {
      "cell_type": "code",
      "source": [
        "print(\"line1 \\\n",
        "line2 \\\n",
        "line3\")"
      ],
      "metadata": {
        "colab": {
          "base_uri": "https://localhost:8080/"
        },
        "id": "I-Ny51F8pTfr",
        "outputId": "f4c628e1-ec27-4b04-a6e2-5fe726580cf9"
      },
      "execution_count": 42,
      "outputs": [
        {
          "output_type": "stream",
          "name": "stdout",
          "text": [
            "line1 line2 line3\n"
          ]
        }
      ]
    },
    {
      "cell_type": "markdown",
      "source": [
        "\\\\Backslash (\\)"
      ],
      "metadata": {
        "id": "QtVHWPGrqbEa"
      }
    },
    {
      "cell_type": "code",
      "source": [
        "print(\"\\\\\")"
      ],
      "metadata": {
        "colab": {
          "base_uri": "https://localhost:8080/"
        },
        "id": "PUFeyeumqiom",
        "outputId": "150452c0-fa7e-4f2c-e31b-70bc2df8c97c"
      },
      "execution_count": 43,
      "outputs": [
        {
          "output_type": "stream",
          "name": "stdout",
          "text": [
            "\\\n"
          ]
        }
      ]
    },
    {
      "cell_type": "markdown",
      "source": [
        "\\'Single quote (')"
      ],
      "metadata": {
        "id": "87J-pclkqoEC"
      }
    },
    {
      "cell_type": "code",
      "source": [
        "print('\\'')"
      ],
      "metadata": {
        "colab": {
          "base_uri": "https://localhost:8080/"
        },
        "id": "nd6TqyZ5qkOQ",
        "outputId": "f8717996-1658-4faa-c813-017ff97f6be6"
      },
      "execution_count": 44,
      "outputs": [
        {
          "output_type": "stream",
          "name": "stdout",
          "text": [
            "'\n"
          ]
        }
      ]
    },
    {
      "cell_type": "markdown",
      "source": [
        "\\\"Double quote (\")"
      ],
      "metadata": {
        "id": "D5I3Ld66qtCM"
      }
    },
    {
      "cell_type": "code",
      "source": [
        "print(\"\\\"\")"
      ],
      "metadata": {
        "colab": {
          "base_uri": "https://localhost:8080/"
        },
        "id": "E7g1My6kqq2V",
        "outputId": "4a1f9cb5-9f29-43a0-831b-3bed540f12ee"
      },
      "execution_count": 45,
      "outputs": [
        {
          "output_type": "stream",
          "name": "stdout",
          "text": [
            "\"\n"
          ]
        }
      ]
    },
    {
      "cell_type": "markdown",
      "source": [
        "\\a \\b"
      ],
      "metadata": {
        "id": "uagEVmGqq2XZ"
      }
    },
    {
      "cell_type": "code",
      "source": [
        "print(\"Hello \\b World!\")\n"
      ],
      "metadata": {
        "colab": {
          "base_uri": "https://localhost:8080/"
        },
        "id": "UaWVJ6clqyl8",
        "outputId": "d90dd4d8-1329-4bfb-ace0-77d0d360e078"
      },
      "execution_count": 46,
      "outputs": [
        {
          "output_type": "stream",
          "name": "stdout",
          "text": [
            "Hello \b World!\n"
          ]
        }
      ]
    },
    {
      "cell_type": "code",
      "source": [
        "print(\"Hello \\f World!\")"
      ],
      "metadata": {
        "colab": {
          "base_uri": "https://localhost:8080/"
        },
        "id": "RAyz7hmorB70",
        "outputId": "716e2437-6045-4c86-cda5-2f38219c6628"
      },
      "execution_count": 47,
      "outputs": [
        {
          "output_type": "stream",
          "name": "stdout",
          "text": [
            "Hello \f World!\n"
          ]
        }
      ]
    },
    {
      "cell_type": "markdown",
      "source": [
        "\\n newline"
      ],
      "metadata": {
        "id": "kR0ULHT3rG75"
      }
    },
    {
      "cell_type": "code",
      "source": [
        "print(\"Hello \\n World!\")"
      ],
      "metadata": {
        "colab": {
          "base_uri": "https://localhost:8080/"
        },
        "id": "eICkb8C1rJdY",
        "outputId": "a32922c0-4f34-4f22-c357-4647b75db953"
      },
      "execution_count": 48,
      "outputs": [
        {
          "output_type": "stream",
          "name": "stdout",
          "text": [
            "Hello \n",
            " World!\n"
          ]
        }
      ]
    },
    {
      "cell_type": "markdown",
      "source": [
        "\\r new line"
      ],
      "metadata": {
        "id": "mx6FAmQJrM35"
      }
    },
    {
      "cell_type": "code",
      "source": [
        "print(\"Hello \\r World!\")"
      ],
      "metadata": {
        "colab": {
          "base_uri": "https://localhost:8080/"
        },
        "id": "Hy5a71FsrLLK",
        "outputId": "0b7cd7dc-cfdf-45f0-edbf-65de8357a013"
      },
      "execution_count": 49,
      "outputs": [
        {
          "output_type": "stream",
          "name": "stdout",
          "text": [
            "Hello \r World!\n"
          ]
        }
      ]
    },
    {
      "cell_type": "markdown",
      "source": [
        "\\t horizontal tab"
      ],
      "metadata": {
        "id": "-Rx1TYs3rWLP"
      }
    },
    {
      "cell_type": "code",
      "source": [
        "print(\"Hello \\t World!\")"
      ],
      "metadata": {
        "colab": {
          "base_uri": "https://localhost:8080/"
        },
        "id": "SaNlE18BrRSp",
        "outputId": "582e9f73-e881-40c2-addc-af922f3a150b"
      },
      "execution_count": 50,
      "outputs": [
        {
          "output_type": "stream",
          "name": "stdout",
          "text": [
            "Hello \t World!\n"
          ]
        }
      ]
    },
    {
      "cell_type": "markdown",
      "source": [
        "\\v vertical tab"
      ],
      "metadata": {
        "id": "aa-f_XdTrcNV"
      }
    },
    {
      "cell_type": "code",
      "source": [
        "print(\"Hello \\v World!\")"
      ],
      "metadata": {
        "colab": {
          "base_uri": "https://localhost:8080/"
        },
        "id": "CZBLxTfgrYmo",
        "outputId": "e01262ed-586f-4c75-9051-5c48e9a2f80c"
      },
      "execution_count": 51,
      "outputs": [
        {
          "output_type": "stream",
          "name": "stdout",
          "text": [
            "Hello \u000b World!\n"
          ]
        }
      ]
    }
  ]
}