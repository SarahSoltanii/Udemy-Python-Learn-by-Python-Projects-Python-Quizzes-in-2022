{
  "nbformat": 4,
  "nbformat_minor": 0,
  "metadata": {
    "colab": {
      "name": "Udemy.ipynb",
      "provenance": [],
      "collapsed_sections": []
    },
    "kernelspec": {
      "name": "python3",
      "display_name": "Python 3"
    },
    "language_info": {
      "name": "python"
    }
  },
  "cells": [
    {
      "cell_type": "markdown",
      "source": [
        "Coding Quiz (1)\n",
        "Write a Python program to convert these numbers into string then into float types: 10,20,30,40,50,60,70,80,90,100"
      ],
      "metadata": {
        "id": "kTBG1eFz2-uE"
      }
    },
    {
      "cell_type": "code",
      "execution_count": null,
      "metadata": {
        "colab": {
          "base_uri": "https://localhost:8080/"
        },
        "id": "yTRxASemvl84",
        "outputId": "d27989f0-9849-446a-b8d4-53d150a2916e"
      },
      "outputs": [
        {
          "output_type": "stream",
          "name": "stdout",
          "text": [
            "10\n",
            "20\n",
            "30\n",
            "40\n",
            "50\n",
            "60\n",
            "70\n",
            "80\n",
            "90\n",
            "90\n",
            "90.0\n"
          ]
        }
      ],
      "source": [
        "\n",
        "numbers = range(1,10)\n",
        "for number in numbers:\n",
        "    x = number*10\n",
        "    print(x)\n",
        "y=str(x)\n",
        "print(y)\n",
        "z= float(x)\n",
        "print(z)\n"
      ]
    },
    {
      "cell_type": "markdown",
      "source": [
        "Coding Quiz (2)\n",
        "Write a program in python that take two string to complete and form a message that we can understand?\n",
        "msg =  \"python is ________  & _______  language and suitable for data analysis\""
      ],
      "metadata": {
        "id": "-JeGVQct27_f"
      }
    },
    {
      "cell_type": "code",
      "source": [
        "a = input (\"Enter your idea:\")\n",
        "b = input (\"Enter your idea:\")\n",
        "msg=\"python is\" + a + \"&\" + b + \"language and suitable for data analysis\"\n",
        "print(msg)"
      ],
      "metadata": {
        "id": "aXi_tP5z29Tl",
        "colab": {
          "base_uri": "https://localhost:8080/"
        },
        "outputId": "0b38f979-4aad-47f2-e1e6-3a8c214e7d1c"
      },
      "execution_count": null,
      "outputs": [
        {
          "output_type": "stream",
          "name": "stdout",
          "text": [
            "Enter your idea:best\n",
            "Enter your idea:good\n",
            "python isbest&goodlanguage and suitable for data analysis\n",
            "57\n",
            "4\n",
            "4\n",
            "best\n"
          ]
        }
      ]
    },
    {
      "cell_type": "markdown",
      "source": [
        "Coding Quiz (3)\n",
        "\n",
        "Write  a program in python to declare the name of this programming language and calculate length of this name."
      ],
      "metadata": {
        "id": "mr2hiem6Zd9H"
      }
    },
    {
      "cell_type": "code",
      "source": [
        "a = input (\"Enter your idea:\")\n",
        "b = input (\"Enter your idea:\")\n",
        "msg=\"python is\" + a + \"&\" + b + \"language and suitable for data analysis\"\n",
        "print(msg)\n",
        "print(len(msg))\n",
        "print(len(a))\n",
        "print(len(a[0:4]))\n",
        "print(a[0:4])"
      ],
      "metadata": {
        "id": "h_E7tbdgakwt"
      },
      "execution_count": null,
      "outputs": []
    },
    {
      "cell_type": "markdown",
      "source": [
        "Coding Quiz (4)\n",
        "\n",
        "Write a program in python to declare a message for an instructing sign in public place and get the length of that message and count of message letters:"
      ],
      "metadata": {
        "id": "QWzPm4dFbXb0"
      }
    },
    {
      "cell_type": "code",
      "source": [
        "message = \"my favorite language is persian\"\n",
        "print(len(message))"
      ],
      "metadata": {
        "colab": {
          "base_uri": "https://localhost:8080/"
        },
        "id": "QsAzrbbwbjUZ",
        "outputId": "e0e2d6d2-a0b1-4d24-90bd-3fea94f8a46f"
      },
      "execution_count": null,
      "outputs": [
        {
          "output_type": "stream",
          "name": "stdout",
          "text": [
            "31\n"
          ]
        }
      ]
    },
    {
      "cell_type": "code",
      "source": [
        "message.count('a')"
      ],
      "metadata": {
        "colab": {
          "base_uri": "https://localhost:8080/"
        },
        "id": "B0mlkv7AhoMP",
        "outputId": "708915b6-8df8-46a5-b854-454b2f48d1fc"
      },
      "execution_count": null,
      "outputs": [
        {
          "output_type": "execute_result",
          "data": {
            "text/plain": [
              "4"
            ]
          },
          "metadata": {},
          "execution_count": 16
        }
      ]
    },
    {
      "cell_type": "code",
      "source": [
        "message.count('v',3) #in order to count from index 3 to end"
      ],
      "metadata": {
        "colab": {
          "base_uri": "https://localhost:8080/"
        },
        "id": "72hBloNekUc0",
        "outputId": "fbe546ff-282c-42a9-b33f-500fabc7d2d1"
      },
      "execution_count": null,
      "outputs": [
        {
          "output_type": "execute_result",
          "data": {
            "text/plain": [
              "1"
            ]
          },
          "metadata": {},
          "execution_count": 18
        }
      ]
    },
    {
      "cell_type": "code",
      "source": [
        "message.count('g',0,25) #in order to count from index 0 to 30"
      ],
      "metadata": {
        "colab": {
          "base_uri": "https://localhost:8080/"
        },
        "id": "bFk-jog2kjR5",
        "outputId": "eafa71dc-f386-4027-d6af-13e0e78d459d"
      },
      "execution_count": null,
      "outputs": [
        {
          "output_type": "execute_result",
          "data": {
            "text/plain": [
              "2"
            ]
          },
          "metadata": {},
          "execution_count": 21
        }
      ]
    },
    {
      "cell_type": "markdown",
      "source": [
        "Coding Quiz (5)\n",
        "\n",
        "Write a program in python to count to count the vowels in the following string:\n",
        "\" are you working as a Python programmer ?\""
      ],
      "metadata": {
        "id": "cYoGgfUmlA9f"
      }
    },
    {
      "cell_type": "code",
      "source": [
        "c = \" are you working as a Python programmer ?\"\n",
        "c.count('a')"
      ],
      "metadata": {
        "colab": {
          "base_uri": "https://localhost:8080/"
        },
        "id": "JhDI5HsMk6jZ",
        "outputId": "06c3bc76-40dc-4c19-e864-40e862f0b448"
      },
      "execution_count": null,
      "outputs": [
        {
          "output_type": "execute_result",
          "data": {
            "text/plain": [
              "2"
            ]
          },
          "metadata": {},
          "execution_count": 23
        }
      ]
    },
    {
      "cell_type": "code",
      "source": [
        "c.count('e')"
      ],
      "metadata": {
        "colab": {
          "base_uri": "https://localhost:8080/"
        },
        "id": "PrrDoewSlTmn",
        "outputId": "1cc3144e-3b6c-42d0-a47f-6a7e88c1e727"
      },
      "execution_count": null,
      "outputs": [
        {
          "output_type": "execute_result",
          "data": {
            "text/plain": [
              "2"
            ]
          },
          "metadata": {},
          "execution_count": 24
        }
      ]
    },
    {
      "cell_type": "code",
      "source": [
        "c.count('o')"
      ],
      "metadata": {
        "colab": {
          "base_uri": "https://localhost:8080/"
        },
        "id": "YNSkhCnelbzK",
        "outputId": "f36a7fba-0e34-492a-9c25-68833b21e129"
      },
      "execution_count": null,
      "outputs": [
        {
          "output_type": "execute_result",
          "data": {
            "text/plain": [
              "4"
            ]
          },
          "metadata": {},
          "execution_count": 25
        }
      ]
    },
    {
      "cell_type": "code",
      "source": [
        "c.count('i')"
      ],
      "metadata": {
        "colab": {
          "base_uri": "https://localhost:8080/"
        },
        "id": "cPYqURe_lnyW",
        "outputId": "9824ba44-d7c3-4888-dbd8-2feffb0f498e"
      },
      "execution_count": null,
      "outputs": [
        {
          "output_type": "execute_result",
          "data": {
            "text/plain": [
              "1"
            ]
          },
          "metadata": {},
          "execution_count": 26
        }
      ]
    },
    {
      "cell_type": "code",
      "source": [
        "c.count('u')"
      ],
      "metadata": {
        "colab": {
          "base_uri": "https://localhost:8080/"
        },
        "id": "4n2WD1-alpjw",
        "outputId": "ba0462f2-784b-4b4c-9714-c5458e3e7018"
      },
      "execution_count": null,
      "outputs": [
        {
          "output_type": "execute_result",
          "data": {
            "text/plain": [
              "1"
            ]
          },
          "metadata": {},
          "execution_count": 27
        }
      ]
    },
    {
      "cell_type": "markdown",
      "source": [
        "Coding Quiz (6)\n",
        "\n",
        "Write  a program in python to declare four messages to the community of technology that the Python programming language is wonderful but describe python with  a different description in each message you will write , so with one message withe one python description then answer the following questions:\n",
        "How long each message you write is?\n",
        "what is the count of a specific letter in each message you will write?\n",
        "are the codes you write end with \"l\"?\n",
        "are the codes you write start with \"T\"?"
      ],
      "metadata": {
        "id": "ESaAO_96nv2y"
      }
    },
    {
      "cell_type": "code",
      "source": [
        "x = \"I love python language\"\n",
        "O = \"Python is a powerful language\"\n",
        "P = \"the python language is useful for computer vision\"\n",
        "U = \"python is elegant\"\n",
        "print(len(x))\n",
        "print(len(O))\n",
        "print(len(P))\n",
        "print(len(U))\n",
        "x.count(\"I\")\n",
        "O.count(\"p\")\n",
        "P.count(\"o\")\n",
        "U.count(\"e\")\n",
        "x.endswith(\"e\")\n"
      ],
      "metadata": {
        "id": "W4BuziL-lrqt",
        "colab": {
          "base_uri": "https://localhost:8080/"
        },
        "outputId": "783dc93c-79e5-4caf-9da9-796d23a15e70"
      },
      "execution_count": null,
      "outputs": [
        {
          "output_type": "stream",
          "name": "stdout",
          "text": [
            "22\n",
            "29\n",
            "49\n",
            "17\n"
          ]
        },
        {
          "output_type": "execute_result",
          "data": {
            "text/plain": [
              "True"
            ]
          },
          "metadata": {},
          "execution_count": 9
        }
      ]
    },
    {
      "cell_type": "code",
      "source": [
        ""
      ],
      "metadata": {
        "id": "wDpJzvwhSNVq"
      },
      "execution_count": null,
      "outputs": []
    },
    {
      "cell_type": "code",
      "source": [
        "P.endswith(\"P\")"
      ],
      "metadata": {
        "colab": {
          "base_uri": "https://localhost:8080/"
        },
        "id": "VL6s4cugNhXP",
        "outputId": "298c3ab4-6d28-43c2-9b4a-066ec1428a09"
      },
      "execution_count": null,
      "outputs": [
        {
          "output_type": "execute_result",
          "data": {
            "text/plain": [
              "False"
            ]
          },
          "metadata": {},
          "execution_count": 10
        }
      ]
    },
    {
      "cell_type": "code",
      "source": [
        "U.endswith(\"m\")"
      ],
      "metadata": {
        "colab": {
          "base_uri": "https://localhost:8080/"
        },
        "id": "kCJzJ89wOnEz",
        "outputId": "07278228-ead2-4c5f-9ef5-a953b656b5d3"
      },
      "execution_count": null,
      "outputs": [
        {
          "output_type": "execute_result",
          "data": {
            "text/plain": [
              "False"
            ]
          },
          "metadata": {},
          "execution_count": 11
        }
      ]
    },
    {
      "cell_type": "markdown",
      "source": [
        "string.find(value, start, end)"
      ],
      "metadata": {
        "id": "Msri9KWPQvDc"
      }
    },
    {
      "cell_type": "markdown",
      "source": [
        "Coding Quiz (7)\n",
        "\n",
        "Write a program in python contain string \"Don't turn left!\" and then check if this string contain ( '!') and('m')"
      ],
      "metadata": {
        "id": "NfEyq3HB9w9e"
      }
    },
    {
      "cell_type": "code",
      "source": [
        "T = \"Don't turn left \"\n",
        "T.find('i')\n",
        "T.find('m')"
      ],
      "metadata": {
        "id": "Id6wdqWpOsbP",
        "colab": {
          "base_uri": "https://localhost:8080/"
        },
        "outputId": "7d883251-63b7-4703-afea-c32e78616145"
      },
      "execution_count": null,
      "outputs": [
        {
          "output_type": "execute_result",
          "data": {
            "text/plain": [
              "-1"
            ]
          },
          "metadata": {},
          "execution_count": 3
        }
      ]
    },
    {
      "cell_type": "code",
      "source": [
        "T.index('i')"
      ],
      "metadata": {
        "colab": {
          "base_uri": "https://localhost:8080/",
          "height": 165
        },
        "id": "C-x_N3Ty-PAt",
        "outputId": "f54aecab-6791-48c3-acbe-6954ef205ae9"
      },
      "execution_count": null,
      "outputs": [
        {
          "output_type": "error",
          "ename": "ValueError",
          "evalue": "ignored",
          "traceback": [
            "\u001b[0;31m---------------------------------------------------------------------------\u001b[0m",
            "\u001b[0;31mValueError\u001b[0m                                Traceback (most recent call last)",
            "\u001b[0;32m<ipython-input-4-114b9a5198b9>\u001b[0m in \u001b[0;36m<module>\u001b[0;34m()\u001b[0m\n\u001b[0;32m----> 1\u001b[0;31m \u001b[0mT\u001b[0m\u001b[0;34m.\u001b[0m\u001b[0mindex\u001b[0m\u001b[0;34m(\u001b[0m\u001b[0;34m'i'\u001b[0m\u001b[0;34m)\u001b[0m\u001b[0;34m\u001b[0m\u001b[0;34m\u001b[0m\u001b[0m\n\u001b[0m",
            "\u001b[0;31mValueError\u001b[0m: substring not found"
          ]
        }
      ]
    },
    {
      "cell_type": "markdown",
      "source": [
        "Coding Quiz (8)\n",
        "\n",
        "write a program in python contain  a string message for an electrical instructional sign in the street warning the cars drivers that they don't to turn left.\n",
        "then check the string case.\n",
        "then make it in upper case  in one code\n",
        "finally make it in lower case in a second code.\n",
        "Head to the next Hy"
      ],
      "metadata": {
        "id": "4VE_fHXk_j26"
      }
    },
    {
      "cell_type": "code",
      "source": [
        "w=\"Don't turn left\"\n",
        "w.isupper() "
      ],
      "metadata": {
        "colab": {
          "base_uri": "https://localhost:8080/"
        },
        "id": "6EGl8ACV-iHy",
        "outputId": "a1123a6d-a2f3-4611-f722-777f6567a9d5"
      },
      "execution_count": null,
      "outputs": [
        {
          "output_type": "execute_result",
          "data": {
            "text/plain": [
              "False"
            ]
          },
          "metadata": {},
          "execution_count": 5
        }
      ]
    },
    {
      "cell_type": "code",
      "source": [
        "w.islower()"
      ],
      "metadata": {
        "colab": {
          "base_uri": "https://localhost:8080/"
        },
        "id": "ZpYiuxz1_-Y4",
        "outputId": "ab343044-1d23-4e5c-a49c-9feeabee2b95"
      },
      "execution_count": null,
      "outputs": [
        {
          "output_type": "execute_result",
          "data": {
            "text/plain": [
              "False"
            ]
          },
          "metadata": {},
          "execution_count": 6
        }
      ]
    },
    {
      "cell_type": "code",
      "source": [
        "w.upper()"
      ],
      "metadata": {
        "colab": {
          "base_uri": "https://localhost:8080/",
          "height": 35
        },
        "id": "tzwY9JHtABnB",
        "outputId": "f3cb501a-2076-4696-8bbf-7239f4921d83"
      },
      "execution_count": null,
      "outputs": [
        {
          "output_type": "execute_result",
          "data": {
            "text/plain": [
              "\"DON'T TURN LEFT\""
            ],
            "application/vnd.google.colaboratory.intrinsic+json": {
              "type": "string"
            }
          },
          "metadata": {},
          "execution_count": 7
        }
      ]
    },
    {
      "cell_type": "code",
      "source": [
        "w.lower()"
      ],
      "metadata": {
        "colab": {
          "base_uri": "https://localhost:8080/",
          "height": 35
        },
        "id": "aefLvXu3AGiz",
        "outputId": "5e941066-285b-4cb1-c5dd-bf71f1fab695"
      },
      "execution_count": null,
      "outputs": [
        {
          "output_type": "execute_result",
          "data": {
            "text/plain": [
              "\"don't turn left\""
            ],
            "application/vnd.google.colaboratory.intrinsic+json": {
              "type": "string"
            }
          },
          "metadata": {},
          "execution_count": 8
        }
      ]
    },
    {
      "cell_type": "markdown",
      "source": [
        "Coding Quiz (9)\n",
        "\n",
        "write a program in python to declare that The coding is fun, then replace the word 'fun' with  the 'awesome' and then remove the word ' The' :"
      ],
      "metadata": {
        "id": "ORrtwHgsA5Ys"
      }
    },
    {
      "cell_type": "code",
      "source": [
        "Q=\"The coding is fun!\"\n",
        "Q.replace('fun','awesome')\n"
      ],
      "metadata": {
        "colab": {
          "base_uri": "https://localhost:8080/",
          "height": 36
        },
        "id": "QfNqtzB0AI7J",
        "outputId": "187ad8d1-9b21-4fd4-ce16-c4c7f955cfe3"
      },
      "execution_count": null,
      "outputs": [
        {
          "output_type": "execute_result",
          "data": {
            "text/plain": [
              "'The coding is awesome!'"
            ],
            "application/vnd.google.colaboratory.intrinsic+json": {
              "type": "string"
            }
          },
          "metadata": {},
          "execution_count": 3
        }
      ]
    },
    {
      "cell_type": "code",
      "source": [
        "Q.strip('The')\n",
        "#strip for remove char"
      ],
      "metadata": {
        "colab": {
          "base_uri": "https://localhost:8080/",
          "height": 36
        },
        "id": "HwUvdTO1CJ0y",
        "outputId": "6cde1162-3cb0-426b-b67b-c89d4c4675a9"
      },
      "execution_count": null,
      "outputs": [
        {
          "output_type": "execute_result",
          "data": {
            "text/plain": [
              "' coding is fun!'"
            ],
            "application/vnd.google.colaboratory.intrinsic+json": {
              "type": "string"
            }
          },
          "metadata": {},
          "execution_count": 4
        }
      ]
    },
    {
      "cell_type": "markdown",
      "source": [
        "Coding Quiz (10)\n",
        "\n",
        "Run the following lines of coding to see the result:\n",
        "string = 'python is powerful language'\n",
        "string.capitalize()\n",
        "string = '1st programming language'\n",
        "string.capitalize()\n",
        "string = 'pYTHON IS POWERFUL PROGRAMMING LANGUAGE'\n",
        "string.swapcase()\n",
        "string = 'Python the powerful programming language'\n",
        "string.title()"
      ],
      "metadata": {
        "id": "wsJ-wyGo2lKN"
      }
    },
    {
      "cell_type": "code",
      "source": [
        "string = 'python is powerful language'\n",
        "string.capitalize()"
      ],
      "metadata": {
        "id": "Q6gxuF-fCW4m",
        "colab": {
          "base_uri": "https://localhost:8080/",
          "height": 36
        },
        "outputId": "cd155294-edc5-44a2-ad3c-b9926293aecc"
      },
      "execution_count": null,
      "outputs": [
        {
          "output_type": "execute_result",
          "data": {
            "text/plain": [
              "'Python is powerful language'"
            ],
            "application/vnd.google.colaboratory.intrinsic+json": {
              "type": "string"
            }
          },
          "metadata": {},
          "execution_count": 6
        }
      ]
    },
    {
      "cell_type": "code",
      "source": [
        "string = '1st programming language'\n",
        "string.capitalize()"
      ],
      "metadata": {
        "id": "kQ5c2Wbz3PWx",
        "colab": {
          "base_uri": "https://localhost:8080/",
          "height": 36
        },
        "outputId": "f96ca292-5f81-4cd5-fdc6-2869dfb39f59"
      },
      "execution_count": 1,
      "outputs": [
        {
          "output_type": "execute_result",
          "data": {
            "text/plain": [
              "'1st programming language'"
            ],
            "application/vnd.google.colaboratory.intrinsic+json": {
              "type": "string"
            }
          },
          "metadata": {},
          "execution_count": 1
        }
      ]
    },
    {
      "cell_type": "code",
      "source": [
        "string = 'pYTHON IS POWERFUL PROGRAMMING LANGUAGE'\n",
        "string.swapcase()"
      ],
      "metadata": {
        "colab": {
          "base_uri": "https://localhost:8080/",
          "height": 36
        },
        "id": "Rwzp25w-pFsi",
        "outputId": "1b6f5fcc-d1d5-4404-9359-2ebe7b087a5d"
      },
      "execution_count": 2,
      "outputs": [
        {
          "output_type": "execute_result",
          "data": {
            "text/plain": [
              "'Python is powerful programming language'"
            ],
            "application/vnd.google.colaboratory.intrinsic+json": {
              "type": "string"
            }
          },
          "metadata": {},
          "execution_count": 2
        }
      ]
    },
    {
      "cell_type": "code",
      "source": [
        "string = 'Python the powerful programming language'\n",
        "string.title()"
      ],
      "metadata": {
        "colab": {
          "base_uri": "https://localhost:8080/",
          "height": 36
        },
        "id": "k5pHwAzrpRDW",
        "outputId": "1840a062-db3b-472c-e10e-e07a8ef5ea9c"
      },
      "execution_count": 3,
      "outputs": [
        {
          "output_type": "execute_result",
          "data": {
            "text/plain": [
              "'Python The Powerful Programming Language'"
            ],
            "application/vnd.google.colaboratory.intrinsic+json": {
              "type": "string"
            }
          },
          "metadata": {},
          "execution_count": 3
        }
      ]
    },
    {
      "cell_type": "markdown",
      "source": [
        "\\ newline ignored"
      ],
      "metadata": {
        "id": "XtY9M16hqK2R"
      }
    },
    {
      "cell_type": "code",
      "source": [
        "print(\"line1 \\\n",
        "line2 \\\n",
        "line3\")"
      ],
      "metadata": {
        "colab": {
          "base_uri": "https://localhost:8080/"
        },
        "id": "I-Ny51F8pTfr",
        "outputId": "dc604719-2bfb-4d65-85e1-747d3746f9de"
      },
      "execution_count": 4,
      "outputs": [
        {
          "output_type": "stream",
          "name": "stdout",
          "text": [
            "line1 line2 line3\n"
          ]
        }
      ]
    },
    {
      "cell_type": "markdown",
      "source": [
        "\\\\Backslash (\\)"
      ],
      "metadata": {
        "id": "QtVHWPGrqbEa"
      }
    },
    {
      "cell_type": "code",
      "source": [
        "print(\"\\\\\")"
      ],
      "metadata": {
        "colab": {
          "base_uri": "https://localhost:8080/"
        },
        "id": "PUFeyeumqiom",
        "outputId": "902bd130-c656-4f8f-fe4c-05090aeea260"
      },
      "execution_count": 5,
      "outputs": [
        {
          "output_type": "stream",
          "name": "stdout",
          "text": [
            "\\\n"
          ]
        }
      ]
    },
    {
      "cell_type": "markdown",
      "source": [
        "\\'Single quote (')"
      ],
      "metadata": {
        "id": "87J-pclkqoEC"
      }
    },
    {
      "cell_type": "code",
      "source": [
        "print('\\'')"
      ],
      "metadata": {
        "colab": {
          "base_uri": "https://localhost:8080/"
        },
        "id": "nd6TqyZ5qkOQ",
        "outputId": "a8654065-1943-4584-a3f1-34638eadf87a"
      },
      "execution_count": 6,
      "outputs": [
        {
          "output_type": "stream",
          "name": "stdout",
          "text": [
            "'\n"
          ]
        }
      ]
    },
    {
      "cell_type": "markdown",
      "source": [
        "\\\"Double quote (\")"
      ],
      "metadata": {
        "id": "D5I3Ld66qtCM"
      }
    },
    {
      "cell_type": "code",
      "source": [
        "print(\"\\\"\")"
      ],
      "metadata": {
        "colab": {
          "base_uri": "https://localhost:8080/"
        },
        "id": "E7g1My6kqq2V",
        "outputId": "d460817e-dca0-47bb-da0a-2075d8489c3a"
      },
      "execution_count": 7,
      "outputs": [
        {
          "output_type": "stream",
          "name": "stdout",
          "text": [
            "\"\n"
          ]
        }
      ]
    },
    {
      "cell_type": "markdown",
      "source": [
        "\\a \\b"
      ],
      "metadata": {
        "id": "uagEVmGqq2XZ"
      }
    },
    {
      "cell_type": "code",
      "source": [
        "print(\"Hello \\b World!\")\n"
      ],
      "metadata": {
        "colab": {
          "base_uri": "https://localhost:8080/"
        },
        "id": "UaWVJ6clqyl8",
        "outputId": "f6a454a8-7852-4718-f127-114f343256b5"
      },
      "execution_count": 8,
      "outputs": [
        {
          "output_type": "stream",
          "name": "stdout",
          "text": [
            "Hello \b World!\n"
          ]
        }
      ]
    },
    {
      "cell_type": "code",
      "source": [
        "print(\"Hello \\f World!\")"
      ],
      "metadata": {
        "colab": {
          "base_uri": "https://localhost:8080/"
        },
        "id": "RAyz7hmorB70",
        "outputId": "421f3a92-2e14-4dc6-a470-8db194f4cd6e"
      },
      "execution_count": 9,
      "outputs": [
        {
          "output_type": "stream",
          "name": "stdout",
          "text": [
            "Hello \f World!\n"
          ]
        }
      ]
    },
    {
      "cell_type": "markdown",
      "source": [
        "\\n newline"
      ],
      "metadata": {
        "id": "kR0ULHT3rG75"
      }
    },
    {
      "cell_type": "code",
      "source": [
        "print(\"Hello \\n World!\")"
      ],
      "metadata": {
        "colab": {
          "base_uri": "https://localhost:8080/"
        },
        "id": "eICkb8C1rJdY",
        "outputId": "0066c4dd-db62-43c9-cced-5c49cd94e791"
      },
      "execution_count": 10,
      "outputs": [
        {
          "output_type": "stream",
          "name": "stdout",
          "text": [
            "Hello \n",
            " World!\n"
          ]
        }
      ]
    },
    {
      "cell_type": "markdown",
      "source": [
        "\\r new line"
      ],
      "metadata": {
        "id": "mx6FAmQJrM35"
      }
    },
    {
      "cell_type": "code",
      "source": [
        "print(\"Hello \\r World!\")"
      ],
      "metadata": {
        "colab": {
          "base_uri": "https://localhost:8080/"
        },
        "id": "Hy5a71FsrLLK",
        "outputId": "c05a390f-25c6-4e1c-ae0e-d123a16e6216"
      },
      "execution_count": 11,
      "outputs": [
        {
          "output_type": "stream",
          "name": "stdout",
          "text": [
            "Hello \r World!\n"
          ]
        }
      ]
    },
    {
      "cell_type": "markdown",
      "source": [
        "\\t horizontal tab"
      ],
      "metadata": {
        "id": "-Rx1TYs3rWLP"
      }
    },
    {
      "cell_type": "code",
      "source": [
        "print(\"Hello \\t World!\")"
      ],
      "metadata": {
        "colab": {
          "base_uri": "https://localhost:8080/"
        },
        "id": "SaNlE18BrRSp",
        "outputId": "1bdd6a03-4580-42c9-94ba-d89fdbc42a26"
      },
      "execution_count": 12,
      "outputs": [
        {
          "output_type": "stream",
          "name": "stdout",
          "text": [
            "Hello \t World!\n"
          ]
        }
      ]
    },
    {
      "cell_type": "markdown",
      "source": [
        "\\v vertical tab"
      ],
      "metadata": {
        "id": "aa-f_XdTrcNV"
      }
    },
    {
      "cell_type": "code",
      "source": [
        "print(\"Hello \\v World!\")"
      ],
      "metadata": {
        "colab": {
          "base_uri": "https://localhost:8080/"
        },
        "id": "CZBLxTfgrYmo",
        "outputId": "37a98ed0-3afc-418e-87e9-312fdd8831d5"
      },
      "execution_count": 13,
      "outputs": [
        {
          "output_type": "stream",
          "name": "stdout",
          "text": [
            "Hello \u000b World!\n"
          ]
        }
      ]
    },
    {
      "cell_type": "code",
      "source": [
        ""
      ],
      "metadata": {
        "id": "cmenIbbDred_"
      },
      "execution_count": null,
      "outputs": []
    }
  ]
}