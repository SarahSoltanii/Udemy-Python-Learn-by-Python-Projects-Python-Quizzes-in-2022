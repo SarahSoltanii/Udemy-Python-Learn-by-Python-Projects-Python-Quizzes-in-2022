{
  "nbformat": 4,
  "nbformat_minor": 0,
  "metadata": {
    "colab": {
      "name": "Udemy-section 6-7.ipynb",
      "provenance": [],
      "collapsed_sections": []
    },
    "kernelspec": {
      "name": "python3",
      "display_name": "Python 3"
    },
    "language_info": {
      "name": "python"
    }
  },
  "cells": [
    {
      "cell_type": "markdown",
      "source": [
        "Coding Quiz (15)\n",
        "\n",
        "Write a program in python check the person age then show him the price of train ticket that fit his age in dollars:¶\n",
        "children until 18 years ticket = 2\n",
        "old people bigger than or equal 60 years ticket = 5\n",
        "young people from 18 - 59 year ticket = 10\n",
        "and don't forget to declare your age:\n"
      ],
      "metadata": {
        "id": "ZK7ob5RG5vlx"
      }
    },
    {
      "cell_type": "code",
      "execution_count": null,
      "metadata": {
        "id": "_VQ7BI2FcUhP",
        "colab": {
          "base_uri": "https://localhost:8080/"
        },
        "outputId": "55b056a9-766a-4938-c1d6-46545247f8ad"
      },
      "outputs": [
        {
          "output_type": "stream",
          "name": "stdout",
          "text": [
            "please enter your age:90\n",
            "ticket=5 $\n"
          ]
        }
      ],
      "source": [
        "age =int(input(\"please enter your age:\")) \n",
        "if age<18:\n",
        "    print(\"ticket=2 $\")\n",
        "elif age>=60:\n",
        "    print(\"ticket=5 $\")\n",
        "elif age>18 or age<59:\n",
        "     print(\"triket=10 $\")        "
      ]
    },
    {
      "cell_type": "markdown",
      "source": [
        "Coding Quiz (16)\n",
        "\n",
        "Using for loop write a python code that gives the multiply of the following list:\n",
        "my_list =[1,4,20,50,100,2000,10000,6]"
      ],
      "metadata": {
        "id": "x0xgxaxT9pMD"
      }
    },
    {
      "cell_type": "code",
      "source": [
        "l = [1,4,20,50,100,2000,10000,6]\n",
        "result = 1\n",
        "for i in l:\n",
        "    result= result*i\n",
        "print(result)    "
      ],
      "metadata": {
        "colab": {
          "base_uri": "https://localhost:8080/"
        },
        "id": "itN7EuT27V2h",
        "outputId": "90bcbda4-0850-47b7-d0e3-ec78187351a0"
      },
      "execution_count": null,
      "outputs": [
        {
          "output_type": "stream",
          "name": "stdout",
          "text": [
            "48000000000000\n"
          ]
        }
      ]
    },
    {
      "cell_type": "markdown",
      "source": [
        "other examples"
      ],
      "metadata": {
        "id": "OxVc3BicENpZ"
      }
    },
    {
      "cell_type": "code",
      "source": [
        "colors=['red','purple','green']\n",
        "for color in colors:\n",
        "    print(color)\n"
      ],
      "metadata": {
        "colab": {
          "base_uri": "https://localhost:8080/"
        },
        "id": "u_qUQfVdEGUN",
        "outputId": "fc70ee9c-6aaa-4c8a-c750-91e552a8683c"
      },
      "execution_count": null,
      "outputs": [
        {
          "output_type": "stream",
          "name": "stdout",
          "text": [
            "red\n",
            "purple\n",
            "green\n"
          ]
        }
      ]
    },
    {
      "cell_type": "code",
      "source": [
        "msg = \"hello my name is sarah\"\n",
        "for i in msg:\n",
        "    print(i)"
      ],
      "metadata": {
        "colab": {
          "base_uri": "https://localhost:8080/"
        },
        "id": "T-CRpqGdEvrc",
        "outputId": "e60c8714-5a05-4449-bf28-3b876082c88d"
      },
      "execution_count": null,
      "outputs": [
        {
          "output_type": "stream",
          "name": "stdout",
          "text": [
            "h\n",
            "e\n",
            "l\n",
            "l\n",
            "o\n",
            " \n",
            "m\n",
            "y\n",
            " \n",
            "n\n",
            "a\n",
            "m\n",
            "e\n",
            " \n",
            "i\n",
            "s\n",
            " \n",
            "s\n",
            "a\n",
            "r\n",
            "a\n",
            "h\n"
          ]
        }
      ]
    },
    {
      "cell_type": "markdown",
      "source": [
        "example of Zip()"
      ],
      "metadata": {
        "id": "gL9Ee3TY9Pgf"
      }
    },
    {
      "cell_type": "code",
      "source": [
        "print(list(zip(['red','yellow','green'],[1,2,3])))"
      ],
      "metadata": {
        "id": "G71IO01JFKxV",
        "colab": {
          "base_uri": "https://localhost:8080/"
        },
        "outputId": "011f8925-54ed-422a-9e9e-f0a574b2195b"
      },
      "execution_count": null,
      "outputs": [
        {
          "output_type": "stream",
          "name": "stdout",
          "text": [
            "[('red', 1), ('yellow', 2), ('green', 3)]\n"
          ]
        }
      ]
    },
    {
      "cell_type": "code",
      "source": [
        "print(list(zip(['red','yellow','green'],[1,2,3,4])))"
      ],
      "metadata": {
        "colab": {
          "base_uri": "https://localhost:8080/"
        },
        "id": "-ClTj1no9lKx",
        "outputId": "10de1731-1b77-46ae-b4bf-3afe2646ac8c"
      },
      "execution_count": null,
      "outputs": [
        {
          "output_type": "stream",
          "name": "stdout",
          "text": [
            "[('red', 1), ('yellow', 2), ('green', 3)]\n"
          ]
        }
      ]
    },
    {
      "cell_type": "code",
      "source": [
        "colors = ['red','yellow','green']\n",
        "nums = [1,2,3]\n",
        "for color,num in zip(colors,nums):    \n",
        "    print(\"{}:{}\".format(color,num))"
      ],
      "metadata": {
        "colab": {
          "base_uri": "https://localhost:8080/"
        },
        "id": "YxdCi1nn9uJn",
        "outputId": "19d1e328-5ecd-4b70-f0a3-5d4327434eda"
      },
      "execution_count": null,
      "outputs": [
        {
          "output_type": "stream",
          "name": "stdout",
          "text": [
            "red:1\n",
            "yellow:2\n",
            "green:3\n"
          ]
        }
      ]
    },
    {
      "cell_type": "code",
      "source": [
        "# or:\n",
        "colors = ['red','yellow','green']\n",
        "nums = [1,2,3]\n",
        "colors_list = [colors,nums]\n",
        "for colors,nums in zip(*colors_list):    \n",
        "    print(colors,nums)"
      ],
      "metadata": {
        "colab": {
          "base_uri": "https://localhost:8080/"
        },
        "id": "isRoYsKlAXMB",
        "outputId": "b2ecaa15-549b-4872-f329-3a26ea66b5e5"
      },
      "execution_count": null,
      "outputs": [
        {
          "output_type": "stream",
          "name": "stdout",
          "text": [
            "red 1\n",
            "yellow 2\n",
            "green 3\n"
          ]
        }
      ]
    },
    {
      "cell_type": "markdown",
      "source": [
        "while loop"
      ],
      "metadata": {
        "id": "ckPRBKi8FQiH"
      }
    },
    {
      "cell_type": "code",
      "source": [
        "variable_count = 3\n",
        "while variable_count > 0:\n",
        "    variable_count = variable_count - 1\n",
        "    print(\"variable_count = \" , variable_count)"
      ],
      "metadata": {
        "colab": {
          "base_uri": "https://localhost:8080/"
        },
        "id": "Iv9v9UceBPWK",
        "outputId": "f21f96f8-fccc-407f-8e28-13dbedae0f83"
      },
      "execution_count": null,
      "outputs": [
        {
          "output_type": "stream",
          "name": "stdout",
          "text": [
            "variable_count =  2\n",
            "variable_count =  1\n",
            "variable_count =  0\n"
          ]
        }
      ]
    },
    {
      "cell_type": "markdown",
      "source": [
        "Coding Quiz (17)\n",
        "\n",
        "Write a program in python that print a list of numbers from 1 to 9 in descending order using while loop, then print the last 5 items:"
      ],
      "metadata": {
        "id": "Ja6riFUIKNMV"
      }
    },
    {
      "cell_type": "code",
      "source": [
        "#???????\n",
        "mylist = [1,2,3,4,5,6,7,8,9]\n",
        "for i in range(1,10):\n",
        "    while len(mylist)<=5:\n",
        "       print(i)\n",
        "       break\n",
        "    mylist.remove(i)"
      ],
      "metadata": {
        "id": "L3K_BlesHW4P",
        "colab": {
          "base_uri": "https://localhost:8080/"
        },
        "outputId": "b8792ab8-6641-437a-9292-b62fa91972f6"
      },
      "execution_count": 14,
      "outputs": [
        {
          "output_type": "stream",
          "name": "stdout",
          "text": [
            "5\n",
            "6\n",
            "7\n",
            "8\n",
            "9\n"
          ]
        }
      ]
    },
    {
      "cell_type": "code",
      "source": [
        "|# Appending and Extending lists in Python\n",
        "odd = [1, 3, 5]\n",
        "\n",
        "odd.append(7)\n",
        "\n",
        "print(odd)\n",
        "\n",
        "odd.extend([9, 11, 13])\n",
        "\n",
        "print(odd)"
      ],
      "metadata": {
        "colab": {
          "base_uri": "https://localhost:8080/"
        },
        "id": "0F1hehrhMIZO",
        "outputId": "7ae9716d-a936-4313-9f43-281042806d77"
      },
      "execution_count": null,
      "outputs": [
        {
          "output_type": "stream",
          "name": "stdout",
          "text": [
            "[1, 3, 5, 7]\n",
            "[1, 3, 5, 7, 9, 11, 13]\n"
          ]
        }
      ]
    },
    {
      "cell_type": "code",
      "source": [
        "fruits = ['apple', 'banana', 'cherry']\n",
        "\n",
        "x = fruits.pop(1)\n",
        "print(x)\n",
        "print(fruits)"
      ],
      "metadata": {
        "colab": {
          "base_uri": "https://localhost:8080/"
        },
        "id": "ct6Twi7PQX_U",
        "outputId": "f6e14376-e282-41e9-a468-2accd622696f"
      },
      "execution_count": null,
      "outputs": [
        {
          "output_type": "stream",
          "name": "stdout",
          "text": [
            "banana\n",
            "['apple', 'cherry']\n"
          ]
        }
      ]
    },
    {
      "cell_type": "markdown",
      "source": [
        "Recap\n",
        "If statement:\n",
        "If statement is commonly used in programs coded in python and the strcture of if statement as follow:\n",
        "\n",
        "if condition = value:\n",
        "\n",
        "do something\n",
        "\n",
        "elif condition = value:\n",
        "\n",
        "do something\n",
        "\n",
        "else:\n",
        "\n",
        "do some thing\n",
        "\n",
        "\n",
        "\n",
        "\n",
        "\n",
        "If name == “Alex”:\n",
        "\n",
        "print(“Hi Alex”)\n",
        "\n",
        "elif name == “Sara”:\n",
        "\n",
        "print(“Hi Sara”)\n",
        "\n",
        "elif name == “kate”:\n",
        "\n",
        "print(“Hi Kate”)\n",
        "\n",
        "else:\n",
        "\n",
        "print(“Hi everybody”)\n",
        "\n",
        "\n",
        "\n",
        "distance = input(“what is the distance of this road?”)\n",
        "\n",
        ">>> what is the distance of this road?\n",
        "\n",
        "25\n",
        "\n",
        "msg= “this road 11 if distance == 20 else “this is another road”\n",
        "\n",
        ">>>Print (msg)\n",
        "\n",
        "we observe that user input distance = 25\n",
        "\n",
        "So it will print :\n",
        "\n",
        "this is another road\n",
        "\n",
        "\n",
        "\n",
        "\n",
        "For Loop:\n",
        "\n",
        "The for loop Looping through an iterable executes a block of code repeatedly until the condition in the for statement is no longer valid.\n",
        "\n",
        "\n",
        "\n",
        "an iterable In Python refers to anything that can be looped over, such as a string, list or tuple.\n",
        "\n",
        "The syntax for looping through an iterable is as follows:\n",
        "\n",
        "for i in iterable:\n",
        "\n",
        "print (i)\n",
        "\n",
        "\n",
        "\n",
        "\n",
        "\n",
        "Example:\n",
        "\n",
        "colors = [‘red', ‘yellow', ‘green', ‘blue‘, black]\n",
        "\n",
        "for color in colors:\n",
        "\n",
        "print (color)\n",
        "\n",
        "\n",
        "\n",
        "1. we first declare the list of colors and give it the members ‘red', ‘yellow', ‘green', ‘blue‘, black.\n",
        "\n",
        "\n",
        "\n",
        "2. Next the statement for color in colors, so the program loops through the colors list and assigns each member in the list to the variable color.\n",
        "\n",
        "\n",
        "\n",
        "If you run the program, you’ll get\n",
        "\n",
        "red\n",
        "\n",
        "yellow\n",
        "\n",
        "green\n",
        "\n",
        "blue\n",
        "\n",
        "black\n",
        "\n",
        "\n",
        "\n",
        "the index of the members in the list can be displayed by use the enumerate() function.\n",
        "\n",
        "for index, color in enumerate(colors):\n",
        "\n",
        "print (index, color)\n",
        "\n",
        ">>>0 red\n",
        "\n",
        "1 yellow\n",
        "\n",
        "2 green\n",
        "\n",
        "3 blue\n",
        "\n",
        "4 black\n",
        "\n",
        "\n",
        "\n",
        "\n",
        "\n",
        "Looping through a sequence of numbers\n",
        "\n",
        "\n",
        "\n",
        "\n",
        "\n",
        "Example :\n",
        "\n",
        "loop through a string data.\n",
        "\n",
        "msg = ‘Hi’\n",
        "\n",
        "for i in msg:\n",
        "\n",
        "print (i)\n",
        "\n",
        "\n",
        "\n",
        ">>>H\n",
        "\n",
        "i\n",
        "\n",
        "\n",
        "\n",
        "range() function:\n",
        "\n",
        "if start is not given, the numbers generated start from zero.\n",
        "\n",
        "For instance,\n",
        "\n",
        "range(5) will generate the list [0, 1, 2, 3, 4]\n",
        "\n",
        "range(3, 10) will generate [3, 4, 5, 6, 7, 8, 9]\n",
        "\n",
        "range(4, 10, 2) will generate [4, 6, 8]\n",
        "\n",
        "\n",
        "\n",
        "\n",
        "\n",
        "\n",
        "\n",
        "\n",
        "\n",
        "\n",
        "\n",
        "the range() function works inside a for statement:\n",
        "\n",
        "Example:\n",
        "\n",
        "\n",
        "\n",
        "for i in range(3):\n",
        "\n",
        "print (i)\n",
        "\n",
        ">>>0\n",
        "\n",
        "1\n",
        "\n",
        "2\n",
        "\n",
        "\n",
        "\n",
        "\n",
        "\n",
        "\n",
        "break: using break in for loop:\n",
        "\n",
        "sometimes we want to stop the loop when meet specific certain condition so we use the break.\n",
        "\n",
        "Example:\n",
        "\n",
        "a = 0\n",
        "\n",
        "for i in range(10):\n",
        "\n",
        "a+= 2\n",
        "\n",
        "print (‘i = ’, i, ‘, a= ’, a)\n",
        "\n",
        "if a== 4:\n",
        "\n",
        "break\n",
        "\n",
        "\n",
        "\n",
        "we will get:\n",
        "\n",
        "i = 0 , a = 2\n",
        "\n",
        "i = 1 , a= 4\n",
        "\n",
        "\n",
        "\n",
        "Without the break, the coder will loop from i = 0 to i = 10 because we used the function range(10).\n",
        "\n",
        "\n",
        "\n",
        "However with the break keyword, the program ends prematurely at i = 2. This is because when i = 2, j reaches the value of 6 and the break keyword causes the loop to end.\n",
        "\n",
        "\n",
        "\n",
        "\n",
        "\n",
        "continue: using continue in for loop:\n",
        "\n",
        "We use continue to skip specific step in the iteration process.\n",
        "\n",
        "Example:\n",
        "\n",
        "for num in range(3)\n",
        "\n",
        "if num == 1:\n",
        "\n",
        "continue\n",
        "\n",
        "print('Current number :', num)\n",
        "\n",
        "Result: Current number : 0\n",
        "\n",
        "Current number : 2\n",
        "\n",
        "\n",
        "\n",
        "\n",
        "\n",
        "\n",
        "\n",
        "\n",
        "\n",
        "While Loop\n",
        "\n",
        "while loop repeatedly executes code which inside the loop while specific condition remains valid.\n",
        "\n",
        "Composition of while loop is as follow:\n",
        "\n",
        "while condition is true:\n",
        "\n",
        "do something\n",
        "\n",
        "Firstly we declare a variable to function as a loop counter(variable counter)\n",
        "\n",
        "The condition in which the while statement will evaluate the value of counter to determine if it something more than or less than, so the loop\n",
        "\n",
        "will be executed.\n",
        "\n",
        "\n",
        "\n",
        "\n",
        "\n",
        "Example:\n",
        "\n",
        ">>>variable_count= 3\n",
        "\n",
        "while variable_count > 0:\n",
        "\n",
        "variable_count = variable_count - 1\n",
        "\n",
        "print (\"Variable_count =\" , variable_count)\n",
        "\n",
        "\n",
        "\n",
        "variable_count = 3\n",
        "\n",
        "variable_count = 2\n",
        "\n",
        "variable_count = 1\n",
        "\n",
        "\n",
        "\n",
        "\n",
        "\n",
        "\n",
        "\n",
        "\n",
        "\n",
        "Continue: using continue in while loop:\n",
        "\n",
        "We use continue to skip specific step in the iteration process of while loop.\n",
        "\n",
        "Example:\n",
        "\n",
        "num = 3\n",
        "\n",
        "while num > 0:\n",
        "\n",
        "num -= 1\n",
        "\n",
        "if num == 1:\n",
        "\n",
        "continue\n",
        "\n",
        "print('Current number:', num)\n",
        "\n",
        "Result: Current number : 0\n",
        "\n",
        "Current number : 2\n",
        "\n",
        "\n",
        "\n",
        "\n",
        "\n",
        "\n",
        "\n",
        "Zip( ) iterator examples:\n",
        "\n",
        "print(list(zip(['red', 'yellow', 'green'], [1, 2, 3])))\n",
        "\n",
        ">>>[('red ', 1), ('yellow ', 2), ('green', 3)]\n",
        "colors = ['red', 'yellow', 'green']\n",
        "\n",
        "nums = [1, 2, 3]\n",
        "\n",
        "for color, num in zip(colors, nums):\n",
        "\n",
        "print(\"{}: {}\".format(color, num))\n",
        "\n",
        "'red’: 1\n",
        "\n",
        "'yellow': 2\n",
        "\n",
        "'green': 3\n",
        "\n",
        "\n",
        "\n",
        "\n",
        "\n",
        "\n",
        "\n",
        "\n",
        "\n",
        "Zip( ) iterator +* examples for lists : unzip nested lists\n",
        "\n",
        "Eaxmple 3:\n",
        "\n",
        ">>>colors = ['red', 'yellow', 'green']\n",
        "\n",
        ">>>nums = [1, 2, 3]\n",
        "\n",
        ">>>colors_list = [colors, nums]\n",
        "\n",
        ">>>for colors, nums in zip(*colors_list):\n",
        "\n",
        "print(colors, nums)\n",
        "\n",
        "red 1\n",
        "\n",
        "yellow 2\n",
        "\n",
        "green 3\n",
        "\n",
        "Zip( ) iterator+ * example for tuples: unzip nested tuples\n",
        "\n",
        ">>>colors = ('red', 'yellow', 'green')\n",
        "\n",
        ">>>nums = (1, 2, 3)\n",
        "\n",
        ">>>colors_list = (colors, nums)\n",
        "\n",
        ">>>for colors, nums in zip(*colors_list):\n",
        "\n",
        "print(colors, nums)\n",
        "\n",
        "red 1\n",
        "\n",
        "yellow 2\n",
        "\n",
        "green 3\n",
        "\n",
        "enumerate( ) iterator: for lists:\n",
        "\n",
        "It returns an iterator of tuples containing indices and values of a list. use this when you want the index along with each element of an iterable in a loop.\n",
        ">>>letters = ['a', 'b', 'c', 'd', 'e']\n",
        "\n",
        ">>>for i, letter in enumerate(letters):\n",
        "\n",
        "print(i, letter))\n",
        "0 a\n",
        "1 b\n",
        "2 c\n",
        "3 d\n",
        "4 e\n",
        "\n",
        "enumerate( ) iterator:for tuples\n",
        "\n",
        "Example 2:\n",
        "\n",
        "letters =('a', 'b', 'c', 'd', 'e‘)\n",
        "for i, letter in enumerate(letters):\n",
        "print(i, letter)\n",
        "0 a\n",
        "1 b\n",
        "2 c\n",
        "3 d\n",
        "4 e\n",
        "\n",
        "Try, Except\n",
        "\n",
        "This statement can take over how the program run when an error takes places: the code as following:\n",
        "\n",
        "try:\n",
        "\n",
        "do something\n",
        "\n",
        "except:\n",
        "\n",
        "do another action when an error takes place\n",
        "\n",
        "\n",
        "\n",
        "Try, Except\n",
        "\n",
        "Example:\n",
        "\n",
        "try:\n",
        "print(word)\n",
        "except NameError:\n",
        "print(\"Variable word is not defined\")\n",
        "except:\n",
        "print(\"Something else went wrong\")\n",
        "\n"
      ],
      "metadata": {
        "id": "ZvdeO4u5YPVg"
      }
    },
    {
      "cell_type": "markdown",
      "source": [
        "# **section 7**"
      ],
      "metadata": {
        "id": "KhvLMHlfZdqw"
      }
    },
    {
      "cell_type": "markdown",
      "source": [
        "Recap\n",
        "\n",
        "Types of Exception & Cause of Error:\n",
        "\n",
        "AssertionError :  Raised when assert statement fails.\n",
        "\n",
        "AttributeError : Raised when attribute assignment or reference fails.\n",
        "\n",
        "EOFError : Raised when the input() functions hits end-of-file condition.\n",
        "\n",
        "FloatingPointError : Raised when a floating point operation fails.\n",
        "\n",
        "GeneratorExit : Raise when a generator's close() method is called.\n",
        "\n",
        "ImportError : Raised when the imported module is not found.\n",
        "\n",
        "IndexError : Raised when index of a sequence is out of range.\n",
        "\n",
        "KeyError : Raised when a key is not found in a dictionary. KeyboardInterrupt Raised when the user hits interrupt key (Ctrl+c or delete).\n",
        "\n",
        "MemoryError : Raised when an operation runs out of memory.\n",
        "\n",
        "NameError : Raised when a variable is not found in local or global scope.\n",
        "\n",
        "NotImplementedError : Raised by abstract methods.\n",
        "\n",
        "OSError : Raised when system operation causes system related error.\n",
        "\n",
        "OverflowError : Raised when result of an arithmetic operation is too large to be represented. ReferenceError Raised when a weak reference proxy is used to access a garbage collected referent.\n",
        "\n",
        "RuntimeError : Raised when an error does not fall under any other category.\n",
        "\n",
        "StopIteration : Raised by next() function to indicate that there is no further item to be returned by iterator.\n",
        "\n",
        "SyntaxError : Raised by parser when syntax error is encountered.\n",
        "\n",
        "IndentationError : Raised when there is incorrect indentation.\n",
        "\n",
        "TabError : Raised when indentation consists of inconsistent tabs and spaces.\n",
        "\n",
        "SystemError :Raised when interpreter detects internal error.\n",
        "\n",
        "SystemExit : Raised by sys.exit() function.\n",
        "\n",
        "TypeError : Raised when a function or operation is applied to an object of incorrect type.\n",
        "\n",
        "UnboundLocalError : Raised when a reference is made to a local variable in a function or method, but no value has been bound to that variable.\n",
        "\n",
        "UnicodeError : Raised when a Unicode-related encoding or decoding error occurs.\n",
        "\n",
        "UnicodeEncodeError : Raised when a Unicode-related error occurs during encoding.\n",
        "\n",
        "UnicodeDecodeError : Raised when a Unicode-related error occurs during decoding.\n",
        "\n",
        "UnicodeTranslateError : Raised when a Unicode-related error occurs during translating.\n",
        "\n",
        "ValueError : Raised when a function gets argument of correct type but improper value.\n",
        "\n",
        "ZeroDivisionError : Raised when second operand of division or modulo operation is zero."
      ],
      "metadata": {
        "id": "qw8EqzCIa53P"
      }
    },
    {
      "cell_type": "code",
      "source": [
        ""
      ],
      "metadata": {
        "id": "e55I30RFbFZY"
      },
      "execution_count": null,
      "outputs": []
    }
  ]
}