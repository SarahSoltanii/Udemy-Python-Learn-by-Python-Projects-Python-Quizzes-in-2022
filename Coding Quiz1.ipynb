{
  "nbformat": 4,
  "nbformat_minor": 0,
  "metadata": {
    "colab": {
      "name": "Udemy.ipynb",
      "provenance": [],
      "collapsed_sections": []
    },
    "kernelspec": {
      "name": "python3",
      "display_name": "Python 3"
    },
    "language_info": {
      "name": "python"
    }
  },
  "cells": [
    {
      "cell_type": "code",
      "execution_count": 1,
      "metadata": {
        "colab": {
          "base_uri": "https://localhost:8080/"
        },
        "id": "yTRxASemvl84",
        "outputId": "d27989f0-9849-446a-b8d4-53d150a2916e"
      },
      "outputs": [
        {
          "output_type": "stream",
          "name": "stdout",
          "text": [
            "10\n",
            "20\n",
            "30\n",
            "40\n",
            "50\n",
            "60\n",
            "70\n",
            "80\n",
            "90\n",
            "90\n",
            "90.0\n"
          ]
        }
      ],
      "source": [
        "\"Coding Quiz (1)\"\n",
        "\"Write a Python program to convert these numbers into string then into float types: 10,20,30,40,50,60,70,80,90,100\"\n",
        "numbers = range(1,10)\n",
        "for number in numbers:\n",
        "    x = number*10\n",
        "    print(x)\n",
        "y=str(x)\n",
        "print(y)\n",
        "z= float(x)\n",
        "print(z)\n"
      ]
    }
  ]
}