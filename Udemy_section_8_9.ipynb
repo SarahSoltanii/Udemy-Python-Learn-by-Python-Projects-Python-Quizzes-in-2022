{
  "nbformat": 4,
  "nbformat_minor": 0,
  "metadata": {
    "colab": {
      "name": "Udemy-section_8_9.ipynb",
      "provenance": [],
      "collapsed_sections": []
    },
    "kernelspec": {
      "name": "python3",
      "display_name": "Python 3"
    },
    "language_info": {
      "name": "python"
    }
  },
  "cells": [
    {
      "cell_type": "markdown",
      "source": [
        "Creating a Function\n",
        "def my_function():\n",
        "  print(\"Hello from a function\")"
      ],
      "metadata": {
        "id": "GiywJSoyMckd"
      }
    },
    {
      "cell_type": "code",
      "source": [
        "#example:\n",
        "def salambye(name):\n",
        "    print(\"Hello\",name)\n",
        "    print(\"byebye\",name)\n",
        "\n",
        "salambye(\"sara\")   \n"
      ],
      "metadata": {
        "colab": {
          "base_uri": "https://localhost:8080/"
        },
        "id": "WDumTG6OaOzg",
        "outputId": "d7fb84e7-7521-4aac-fa0b-1cd88934e2df"
      },
      "execution_count": null,
      "outputs": [
        {
          "output_type": "stream",
          "name": "stdout",
          "text": [
            "Hello sara\n",
            "byebye sara\n"
          ]
        }
      ]
    },
    {
      "cell_type": "markdown",
      "source": [
        "Coding Quiz (19)\n",
        "\n",
        "create a python function that return maximum number of the following numbers:\n",
        "2000,10000,500000,1000000,20000000"
      ],
      "metadata": {
        "id": "3RP-I2s4eXIn"
      }
    },
    {
      "cell_type": "code",
      "execution_count": null,
      "metadata": {
        "id": "0w4OJnrfcUDy"
      },
      "outputs": [],
      "source": [
        "x = [2000,10000,500000,1000000,20000000]\n",
        "def max1(x):\n",
        "    return max(x)\n",
        "    \n"
      ]
    },
    {
      "cell_type": "code",
      "source": [
        "max1(x)"
      ],
      "metadata": {
        "colab": {
          "base_uri": "https://localhost:8080/"
        },
        "id": "DDNrgmI3jaS9",
        "outputId": "0aed6960-8224-460d-d875-2cdf16e28e90"
      },
      "execution_count": null,
      "outputs": [
        {
          "output_type": "execute_result",
          "data": {
            "text/plain": [
              "20000000"
            ]
          },
          "metadata": {},
          "execution_count": 20
        }
      ]
    },
    {
      "cell_type": "markdown",
      "source": [
        "Coding Quiz (20)\n",
        "\n",
        "Create a lambda function that takes one parameter (a) and returns if it is even number or not:"
      ],
      "metadata": {
        "id": "UxuBXQ1hlCmD"
      }
    },
    {
      "cell_type": "code",
      "source": [
        "q = lambda a:a%2==0\n",
        "print(q(9))\n"
      ],
      "metadata": {
        "colab": {
          "base_uri": "https://localhost:8080/"
        },
        "id": "mF31r8xcmOvN",
        "outputId": "cb19a416-be8b-4486-9491-f24d1ea911ab"
      },
      "execution_count": null,
      "outputs": [
        {
          "output_type": "stream",
          "name": "stdout",
          "text": [
            "False\n"
          ]
        }
      ]
    },
    {
      "cell_type": "code",
      "source": [
        "#A Lambda Function in Python programming is an anonymous function or \n",
        "#a function having no name. It is a small and restricted function having no more than one line.\n",
        "# Just like a normal function, a Lambda function can have multiple arguments with one expression.\n",
        "\n",
        "#example:\n",
        "#lambda function takes numbers as expression\n",
        "\n",
        "z = lambda a: a+2\n",
        "print(z(2))"
      ],
      "metadata": {
        "colab": {
          "base_uri": "https://localhost:8080/"
        },
        "id": "XB8Aa1g5lXSu",
        "outputId": "cc1b5b3c-8f65-41a9-fc08-357499c5a418"
      },
      "execution_count": null,
      "outputs": [
        {
          "output_type": "stream",
          "name": "stdout",
          "text": [
            "4\n"
          ]
        }
      ]
    },
    {
      "cell_type": "markdown",
      "source": [
        "Coding Quiz (21)\n",
        "\n",
        "Create a python module contain python code used to calculate the area of a square shape,\n",
        "Then use this module in another python file to calculate the area of a square has the side equal 20 cm:"
      ],
      "metadata": {
        "id": "yYsb7pwqBPOW"
      }
    },
    {
      "cell_type": "markdown",
      "source": [
        "Coding Quiz (22)\n",
        "\n",
        "Write  a Python code to read the first three lines of a file?\n",
        "The file attached to this quiz resources\n",
        "Head to the next Hyper link for free online Jupyter workspace:"
      ],
      "metadata": {
        "id": "VDOZ9kyYBTgE"
      }
    },
    {
      "cell_type": "code",
      "source": [
        "#Solution\n",
        "\n",
        "# Declare a function that take two entries file_name and number of lines\n",
        "def read_file_lines(file_name, nlines):\n",
        "# Import the islice from itertools python module\n",
        "        from itertools import islice\n",
        "#Use with open statement which will open the file by its name:\n",
        "        with open(file_name) as f:\n",
        "# Then use for loop to read file line by line       \n",
        "                for line in islice(f, nlines):\n",
        "# Finally print these lines that we chose inside for loop.\n",
        "                        print(line)\n",
        "# Call the function that we have created to read the first three lines as the quiz ask:\n",
        "read_file_lines('Python.txt',3)"
      ],
      "metadata": {
        "id": "EK4eo4m-B7xW"
      },
      "execution_count": null,
      "outputs": []
    },
    {
      "cell_type": "markdown",
      "source": [
        "Recap\n",
        "\n",
        "Python functions:\n",
        "Function: are pre-written lines of code that do a specific task.\n",
        "\n",
        "\n",
        "\n",
        "Function: are composed of:\n",
        "\n",
        "\n",
        "\n",
        "1. Definition code line.\n",
        "\n",
        "2. Argument.\n",
        "\n",
        "3. Retrun or print or yield or result making lines of code.\n",
        "\n",
        "\n",
        "\n",
        "Python functions:\n",
        "\n",
        "We define our own functions in Python and reuse them in the same program as many times as we need.\n",
        "\n",
        "\n",
        "\n",
        "def function_name(parameters):\n",
        "\n",
        "lines of code of the function should do\n",
        "\n",
        "return something\n",
        "\n",
        "\n",
        "\n",
        "Variable Scope:\n",
        "\n",
        "There two types of variables according to variable scope:\n",
        "\n",
        "Local variable:\n",
        "\n",
        "When the variable located and assigned to data value inside the function only, so it will affect that data value of the that variable inside that function only.\n",
        "\n",
        "Global variable:\n",
        "\n",
        "When the variable located and assigned to data value outside the function, so it will affect that data value of the that variable inside and out side that function.\n",
        "\n",
        "\n",
        "\n",
        "Python functions examples:\n",
        "\n",
        "1.Function That returns a value according to its argument :\n",
        "\n",
        ">>>def rectangle_area(width, length)\n",
        "\n",
        "area = width * length\n",
        "\n",
        "return area\n",
        "\n",
        ">>>def rectangle_area(6, 9)\n",
        "\n",
        "Result :54\n",
        "\n",
        ">>>def rectangle_area(4, l5)\n",
        "\n",
        "Result : 20\n",
        "\n",
        "2. Function that returns Boolean value :\n",
        "\n",
        "Example 1:\n",
        "\n",
        "def is_even(x):\n",
        "if x % 2 == 0:\n",
        "return True\n",
        "else:\n",
        "return False\n",
        ">>>def is_even(10)\n",
        "\n",
        "Result: True\n",
        "\n",
        "\n",
        "\n",
        "2. Function that returns Boolean value:\n",
        "\n",
        "Example 2:\n",
        "\n",
        "def is_odd(y):\n",
        "if y % 2 == 0:\n",
        "return True\n",
        "else:\n",
        "return False\n",
        ">>>def is_odd(8)\n",
        "\n",
        "Result: False\n",
        "\n",
        "3.Function that prints specific data:\n",
        "\n",
        "Example 1:\n",
        "\n",
        "def countdown(x):\n",
        "while x> 0:\n",
        "print n\n",
        "x = x-1\n",
        "print “Stop this is the end!\"\n",
        ">>>def countdown(2)\n",
        "\n",
        "Result: 2\n",
        "\n",
        "1\n",
        "\n",
        "Stop this is the end!\n",
        "\n",
        "\n",
        "\n",
        "3. Function that print specific data:\n",
        "\n",
        "Example 2:\n",
        "\n",
        "def is_even_or_odd(n):\n",
        "if n % 2 == 0:\n",
        "return “this number is even”\n",
        "else:\n",
        "return “this number is odd”\n",
        ">>>def is_even_or_odd(2)\n",
        "\n",
        "Result: this number is even\n",
        "\n",
        ">>>def is_even_or_odd(7)\n",
        "\n",
        "Result: this number is odd\n",
        "\n"
      ],
      "metadata": {
        "id": "tQMRoDllo54r"
      }
    },
    {
      "cell_type": "markdown",
      "source": [
        "Coding Quiz (21)\n",
        "\n",
        "Create a python module contain python code used to calculate the area of a square shape,\n",
        "Then use this module in another python file to calculate the area of a square has the side equal 20 cm:"
      ],
      "metadata": {
        "id": "A4qvvsIP04CA"
      }
    },
    {
      "cell_type": "markdown",
      "source": [
        ""
      ],
      "metadata": {
        "id": "wA6aKdczok3g"
      }
    },
    {
      "cell_type": "code",
      "source": [
        ""
      ],
      "metadata": {
        "id": "PoDp_vOF69XJ"
      },
      "execution_count": null,
      "outputs": []
    },
    {
      "cell_type": "markdown",
      "source": [
        "Python Modules :\n",
        "\n",
        "are pre-written lines of code as functions pre-stored in python programming language ready to reuse by python programmers in python editor but before using, we should import them firstly.\n",
        "\n",
        "We called them python libraries especially the the huge lines of code.\n",
        "\n",
        "Examples:\n",
        "\n",
        "pandas\n",
        "\n",
        "numpy\n",
        "\n",
        "matplotlib\n",
        "\n",
        "random\n",
        "\n",
        "We can create our modules:\n",
        "\n",
        "We want to use the check_even_or_odd() function we defined it earlier in another Python script.\n",
        "\n",
        "Example:\n",
        "\n",
        "def even_or_odd(n):\n",
        "\n",
        "if n % 2 == 0:\n",
        "\n",
        "print('This number is even')\n",
        "\n",
        "else:\n",
        "\n",
        "print('This number is odd')\n",
        "\n",
        "\n",
        "\n",
        "\n",
        "\n",
        "So Firstly we save the last as check.py on our desktop, then we will import this module in new python.py:\n",
        "\n",
        "We will proceed as follow:\n",
        ">>>import check\n",
        "\n",
        ">>>answer = check.even_or_odd(3)\n",
        "\n",
        ">>>print(answer)\n",
        "\n",
        "Result: This number is odd\n",
        "\n",
        ">>>answer = check.even_or_odd(6)\n",
        "\n",
        ">>>print(answer)\n",
        "\n",
        "Result: This number is even\n",
        "\n",
        "\n",
        "\n",
        "Open files in Python:\n",
        "\n",
        "We should open files in python before we can read or write , so we could\n",
        "\n",
        "use open function in python to open files:\n",
        "\n",
        ">>>data_file = open(“file_name”, “open mode”)\n",
        "\n",
        "open modes:\n",
        "\n",
        "“r”: default read only mode.\n",
        "\n",
        "“rb”: Binary read only mode.\n",
        "\n",
        "“r+”:default read & write mode.\n",
        "\n",
        "“rb+”: Binary read & write mode.\n",
        "\n",
        "“w”:default write only mode.\n",
        "\n",
        "\n",
        "\n",
        "“w”: default write only mode.\n",
        "\n",
        "“wb”: Binary write only mode.\n",
        "\n",
        "“w+”:default read & write mode.\n",
        "\n",
        "“wb+”: Binary read & write mode.\n",
        "\n",
        "“b”:Binary mode.\n",
        "\n",
        "“a”: append read & write create the file if the file not exist mode.\n",
        "\n",
        "“x”: create the file if the file not exist mode.\n",
        "\n",
        "file.read():\n",
        "\n",
        "We use this method to read all the file or lines of file\n",
        "\n",
        ">>>f = open(“file_name”, “open mode”)\n",
        "\n",
        ">>>f = open(“file_name.txt”, “r”)\n",
        "\n",
        ">>>print(f.read( ))\n",
        "\n",
        ">>> print(f.read(2 ))\n",
        "\n",
        ">>> print(f.read( 6))\n",
        "\n",
        ">>> print(f.read(10))\n",
        "\n",
        "file.readline():\n",
        "\n",
        "We use this method to read the file line by line.\n",
        "\n",
        ">>>f = open(“file_name”, “open mode”)\n",
        "\n",
        ">>>f = open(“file_name.txt”, “r”)\n",
        "\n",
        ">>>print(f.readline( ))\n",
        "\n",
        "\n",
        "\n",
        "Loop with Open File Function:\n",
        "\n",
        "We use loop with Open File Function to read our file :\n",
        "\n",
        ">>>f = open(“file_name”, “open mode”)\n",
        "\n",
        ">>>f = open(“file_name.txt”, “r”)\n",
        "\n",
        ">>> for line in file:\n",
        "\n",
        "print(line)\n",
        "\n",
        "\n",
        "\n",
        "file.close():\n",
        "\n",
        "We use this method to close the file which is agood practice to avoid system Memory blocking by the files we opened .\n",
        "\n",
        ">>>f = open(“file_name”, “open mode”)\n",
        "\n",
        ">>>f = open(“file_name.txt”, “r”)\n",
        "\n",
        ">>>print(f.readline( ))\n",
        "\n",
        ">>>f.close( )\n",
        "\n",
        "\n",
        "\n",
        "File Removing:\n",
        "\n",
        "We use this method to read the file line by line.\n",
        "\n",
        ">>>data_file = open(“file_name”, “open mode”)\n",
        "\n",
        ">>>data_file = open(“file_name.txt”, “r”)\n",
        "\n",
        ">>>print(f.readline( ))\n",
        "\n",
        ">>>f.close\n",
        "\n",
        ">>>import os\n",
        "\n",
        ">>> os.remove(“file_name.txt”)"
      ],
      "metadata": {
        "id": "Vea6u77tBDkl"
      }
    },
    {
      "cell_type": "markdown",
      "source": [
        " "
      ],
      "metadata": {
        "id": "7Uyo3nX1olzn"
      }
    }
  ]
}