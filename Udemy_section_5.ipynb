{
  "nbformat": 4,
  "nbformat_minor": 0,
  "metadata": {
    "colab": {
      "name": "Udemy section 5.ipynb",
      "provenance": [],
      "collapsed_sections": []
    },
    "kernelspec": {
      "name": "python3",
      "display_name": "Python 3"
    },
    "language_info": {
      "name": "python"
    }
  },
  "cells": [
    {
      "cell_type": "markdown",
      "source": [
        "Coding Quiz (11)\n",
        "\n",
        "Write  Python code lines to get the sum all numbers in a list then get the result of multiplying them, then get the largest number of them, then get the smallest number of them, finally get the numbers of items in that list.\n"
      ],
      "metadata": {
        "id": "8YpkdnpT3TKJ"
      }
    },
    {
      "cell_type": "code",
      "source": [
        "M = [120,50,70,60,80,400]\n",
        "sum(M)"
      ],
      "metadata": {
        "colab": {
          "base_uri": "https://localhost:8080/"
        },
        "id": "nrRpXG-K3c0w",
        "outputId": "dee654e7-861f-4cbf-bc6b-99fdf9ccd76e"
      },
      "execution_count": null,
      "outputs": [
        {
          "output_type": "execute_result",
          "data": {
            "text/plain": [
              "780"
            ]
          },
          "metadata": {},
          "execution_count": 2
        }
      ]
    },
    {
      "cell_type": "code",
      "source": [
        "max(M)"
      ],
      "metadata": {
        "colab": {
          "base_uri": "https://localhost:8080/"
        },
        "id": "zqanXEWz36oE",
        "outputId": "25ca09d8-bd1c-4a4c-99aa-f3aaa5092a9c"
      },
      "execution_count": null,
      "outputs": [
        {
          "output_type": "execute_result",
          "data": {
            "text/plain": [
              "400"
            ]
          },
          "metadata": {},
          "execution_count": 4
        }
      ]
    },
    {
      "cell_type": "code",
      "source": [
        "min(M)"
      ],
      "metadata": {
        "colab": {
          "base_uri": "https://localhost:8080/"
        },
        "id": "1Kf6HroD4Vex",
        "outputId": "4d7c6681-d06b-4e9c-935e-6378a86746ab"
      },
      "execution_count": null,
      "outputs": [
        {
          "output_type": "execute_result",
          "data": {
            "text/plain": [
              "50"
            ]
          },
          "metadata": {},
          "execution_count": 5
        }
      ]
    },
    {
      "cell_type": "code",
      "source": [
        "len(M)"
      ],
      "metadata": {
        "colab": {
          "base_uri": "https://localhost:8080/"
        },
        "id": "TnxACaJf4lHs",
        "outputId": "6103a845-2399-4d34-8adb-151eda78c8c4"
      },
      "execution_count": null,
      "outputs": [
        {
          "output_type": "execute_result",
          "data": {
            "text/plain": [
              "6"
            ]
          },
          "metadata": {},
          "execution_count": 6
        }
      ]
    },
    {
      "cell_type": "markdown",
      "source": [
        "Multiply all numbers in the list (3 different ways):"
      ],
      "metadata": {
        "id": "2bLMpJxa5f5V"
      }
    },
    {
      "cell_type": "code",
      "source": [
        "#Method 1: Traversal\n",
        "# Python program to multiply all values in the\n",
        "# list using traversal\n",
        " \n",
        "def multiplyList(M) :\n",
        "     \n",
        "    # Multiply elements one by one\n",
        "    result = 1\n",
        "    for x in M:\n",
        "         result = result * x\n",
        "    return result\n",
        "     \n",
        "print(multiplyList(M))\n"
      ],
      "metadata": {
        "colab": {
          "base_uri": "https://localhost:8080/"
        },
        "id": "5a5jTEyi4nAy",
        "outputId": "b298d038-1763-4528-c39d-cca6c95ce0ae"
      },
      "execution_count": null,
      "outputs": [
        {
          "output_type": "stream",
          "name": "stdout",
          "text": [
            "806400000000\n"
          ]
        }
      ]
    },
    {
      "cell_type": "code",
      "source": [
        "#Method 2: Using numpy.prod()\n",
        "# Python3 program to multiply all values in the\n",
        "# list using numpy.prod()\n",
        " \n",
        "import numpy\n",
        "\n",
        "# using numpy.prod() to get the multiplications\n",
        "result1 = numpy.prod(M)\n",
        "\n",
        "print(result1)"
      ],
      "metadata": {
        "colab": {
          "base_uri": "https://localhost:8080/"
        },
        "id": "yw6ZJLh35-cK",
        "outputId": "11545c8b-0e12-452e-f5ca-d57b0d8332d0"
      },
      "execution_count": null,
      "outputs": [
        {
          "output_type": "stream",
          "name": "stdout",
          "text": [
            "806400000000\n"
          ]
        }
      ]
    },
    {
      "cell_type": "code",
      "source": [
        "#Method 3 Using lambda function: Using numpy.array\n",
        "# Python3 program to multiply all values in the\n",
        "# list using lambda function and reduce()\n",
        " \n",
        "from functools import reduce\n",
        "\n",
        "result2 = reduce((lambda x, y: x * y), M)\n",
        "\n",
        "print(result2)"
      ],
      "metadata": {
        "colab": {
          "base_uri": "https://localhost:8080/"
        },
        "id": "98GyCqiQ6YeN",
        "outputId": "e08e0e9f-3662-4301-88c7-539ab44f01ee"
      },
      "execution_count": null,
      "outputs": [
        {
          "output_type": "stream",
          "name": "stdout",
          "text": [
            "806400000000\n"
          ]
        }
      ]
    },
    {
      "cell_type": "markdown",
      "source": [
        "Coding Quiz (12)\n",
        "\n",
        "convert the following tuple into useful string:\n",
        "my_tuple = ('P','y','t','h','o','n','P','r','o','g','r','a','m','m','i','n','g')"
      ],
      "metadata": {
        "id": "Ua_6raVr8_G0"
      }
    },
    {
      "cell_type": "code",
      "source": [
        "my_tuple = ('P','y','t','h','o','n','P','r','o','g','r','a','m','m','i','n','g')\n",
        "my_string = \"\".join(my_tuple)\n",
        "print(my_string)\n"
      ],
      "metadata": {
        "colab": {
          "base_uri": "https://localhost:8080/"
        },
        "id": "nQzAr9AF6_TH",
        "outputId": "baff8483-8ec4-424c-bbc2-76289fc07d37"
      },
      "execution_count": null,
      "outputs": [
        {
          "output_type": "stream",
          "name": "stdout",
          "text": [
            "PythonProgramming\n"
          ]
        }
      ]
    },
    {
      "cell_type": "code",
      "source": [
        "#if we want to convert again into a tuple:\n",
        "myTuple = tuple(my_string)\n",
        "print(myTuple)\n"
      ],
      "metadata": {
        "colab": {
          "base_uri": "https://localhost:8080/"
        },
        "id": "a1rPpMqL9QTs",
        "outputId": "e8705587-b06e-43d7-b1f2-635eea01f484"
      },
      "execution_count": null,
      "outputs": [
        {
          "output_type": "stream",
          "name": "stdout",
          "text": [
            "('P', 'y', 't', 'h', 'o', 'n', 'P', 'r', 'o', 'g', 'r', 'a', 'm', 'm', 'i', 'n', 'g')\n"
          ]
        }
      ]
    },
    {
      "cell_type": "code",
      "source": [
        ""
      ],
      "metadata": {
        "id": "9vxhCy6TC2jT"
      },
      "execution_count": null,
      "outputs": []
    },
    {
      "cell_type": "code",
      "source": [
        "#if we want to convert tuple into a list:\n",
        "my_list = list(myTuple)\n",
        "print(my_list)"
      ],
      "metadata": {
        "colab": {
          "base_uri": "https://localhost:8080/"
        },
        "id": "LoxNvDjY9hND",
        "outputId": "b1c0239a-62a9-4228-bb9e-76c4e42a50e9"
      },
      "execution_count": null,
      "outputs": [
        {
          "output_type": "stream",
          "name": "stdout",
          "text": [
            "['P', 'y', 't', 'h', 'o', 'n', 'P', 'r', 'o', 'g', 'r', 'a', 'm', 'm', 'i', 'n', 'g']\n"
          ]
        }
      ]
    },
    {
      "cell_type": "markdown",
      "source": [
        "Coding Quiz (13)\n",
        " ++++++\n",
        " \n",
        "Write a python code to arrange the following dictionary values:\n",
        "{'key_1': [20, 80, 50], 'key_2': [200, 10, 100], 'key_3': [300, 20, 400]}"
      ],
      "metadata": {
        "id": "a7P25V9uA_M8"
      }
    },
    {
      "cell_type": "code",
      "source": [
        "A= {'key_1': [20, 80, 50], 'key_2': [200, 10, 100], 'key_3': [300, 20, 400]}\n",
        "sortA = {a: sorted(b) for a, b in A.items()}\n",
        "print(sortA)"
      ],
      "metadata": {
        "id": "VtkyOpXoBDy5",
        "colab": {
          "base_uri": "https://localhost:8080/"
        },
        "outputId": "23b2639e-5145-425b-8f5a-b0242da5413e"
      },
      "execution_count": 3,
      "outputs": [
        {
          "output_type": "stream",
          "name": "stdout",
          "text": [
            "{'key_1': [20, 50, 80], 'key_2': [10, 100, 200], 'key_3': [20, 300, 400]}\n"
          ]
        }
      ]
    },
    {
      "cell_type": "markdown",
      "source": [
        "Coding Quiz (14)\n",
        "\n",
        "Get the result of the union the next two sets:\n",
        "a = {'red', 'yellow','orange','green'}\n",
        "b = {'red','orange','black'}"
      ],
      "metadata": {
        "id": "B60F0mcvy6RG"
      }
    },
    {
      "cell_type": "code",
      "source": [
        "#Python Set union() Method\n",
        "#The union() method returns a set that contains all items from the original set, and all items from the specified set(s). You can specify as many sets you want, separated by commas. It does not have to be a set, it can be any iterable object.\n",
        "a = {'red', 'yellow','orange','green'} \n",
        "b = {'red','orange','black'}\n",
        "C = a.union(b)\n",
        "#or print(a|b)\n",
        "print(C)"
      ],
      "metadata": {
        "colab": {
          "base_uri": "https://localhost:8080/"
        },
        "id": "Hgt3hZ-57ZZ1",
        "outputId": "3e095ab8-5a94-40bd-fdc2-faa4a791c14c"
      },
      "execution_count": 8,
      "outputs": [
        {
          "output_type": "stream",
          "name": "stdout",
          "text": [
            "{'red', 'black', 'orange', 'green', 'yellow'}\n"
          ]
        }
      ]
    },
    {
      "cell_type": "markdown",
      "source": [
        "### **Python Structures Comparison**"
      ],
      "metadata": {
        "id": "n_5DyFq8Pm-E"
      }
    },
    {
      "cell_type": "markdown",
      "source": [
        "![1.png](data:image/png;base64,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)"
      ],
      "metadata": {
        "id": "3GZjV23xO-nX"
      }
    },
    {
      "cell_type": "markdown",
      "source": [
        "Recap\n",
        "\n",
        "Lists in python : []\n",
        "\n",
        "Lists are a collection of data values stored as a list and values are separated by a comma.\n",
        "\n",
        "To declare a list, you code as following :\n",
        "\n",
        "We use square brackets [ ] when declaring a list.\n",
        "\n",
        "list_name = [Multiple values are separated by a comma]\n",
        "\n",
        "Example:\n",
        "\n",
        "user_cars_colors = [‘red’, ‘yellow’, ‘black’, ‘blue’]\n",
        "\n",
        "List commands in python\n",
        "\n",
        "user_cars_colors = [‘red’, ‘yellow’, ‘black’, ‘blue’]\n",
        "\n",
        "To assign user_cars_colors (from index 1 to 3) and print\n",
        "\n",
        "user_cars_colors = user_cars_colors[1:3]\n",
        "\n",
        "print (user_cars_colors)\n",
        "\n",
        ">>>You’ll get [yellow, black]\n",
        "\n",
        "In order to modify the second item in List and print the updated list\n",
        "\n",
        "user_cars_colors[1] = ‘green’\n",
        "\n",
        "print(user_cars_colors)\n",
        "\n",
        ">>> [‘red’, ‘green’, ‘black’, ‘blue’]\n",
        "\n",
        "\n",
        "\n",
        "To append a new item to user_cars_colors and print the list :\n",
        "\n",
        "user_cars_colors.append(“white”)\n",
        "\n",
        "print(user_cars_colors)\n",
        "\n",
        ">>>[‘red’, ‘green’, ‘black’, ‘blue’, ‘white’]\n",
        "\n",
        "To remove the fifth item from user_cars_colors and print the list :\n",
        "\n",
        "del user_cars_colors [4]\n",
        "\n",
        "print(user_cars_colors)\n",
        "\n",
        ">>>[‘red’, ‘green’, ‘black’, ‘blue’]\n",
        "\n",
        "\n",
        "\n",
        "len(): returns how many elements are in a list.\n",
        "\n",
        "Users_cars_speeds = [100, 50, 30, 20,120]\n",
        "\n",
        "len(Users_cars_speeds)\n",
        "\n",
        ">>> 5\n",
        "\n",
        "max() returns the greatest element of the list.\n",
        "\n",
        "Users_cars_speeds = [100, 50, 30, 20,120]\n",
        "\n",
        "max(Users_cars_speeds)\n",
        "\n",
        ">>> 120\n",
        "\n",
        "\n",
        "\n",
        "\n",
        "\n",
        "\n",
        "\n",
        "\n",
        "\n",
        "\n",
        "\n",
        "min(): returns the smallest element in a list.\n",
        "\n",
        "Users_cars_speeds = [100, 50, 30, 20,120]\n",
        "\n",
        "min(Users_cars_speeds)\n",
        "\n",
        ">>> 20\n",
        "\n",
        "sorted() returns a copy of a list ordered from smallest to largest\n",
        "\n",
        "Users_cars_speeds = [100, 50, 30, 20,120]\n",
        "\n",
        "sorted(Users_cars_speeds)\n",
        "\n",
        ">>> 120, 100, 50, 30, 20\n",
        "\n",
        "\n",
        "\n",
        "\n",
        "\n",
        "\n",
        "\n",
        "\n",
        "\n",
        "Sum():\n",
        "\n",
        "returns the sum of the elements in a list.\n",
        "\n",
        ">>> Users_cars_speeds = [100, 50, 30, 20,120]\n",
        "\n",
        ">>>sum(Users_cars_speeds)\n",
        "\n",
        "320\n",
        "\n",
        "pop():\n",
        "\n",
        "removes the last element from a list and returns it.\n",
        "\n",
        ">>> Users_cars_speeds = [100, 50, 30, 20,120]\n",
        "\n",
        ">>> Users_cars_speeds.pop\n",
        "\n",
        "120\n",
        "\n",
        "\n",
        "\n",
        "\n",
        "\n",
        "Using range( ) in list:\n",
        "\n",
        ">>> x = range(5)\n",
        "\n",
        ">>> print(x)\n",
        "[0,1,2,3,4]\n",
        "Zero = x[0] equals 0, lists are 0-indexed\n",
        "One = x[1]\n",
        "Two = x[2]\n",
        "\n",
        "Three = x[3]\n",
        "\n",
        "Four = x[4] fifth element of the x list of range(5).\n",
        "Four = x[-1] fifth element of the x list of range(5).\n",
        ">>>\n",
        "\n",
        "Tuples : ()\n",
        "\n",
        "Tuples are just like lists, but we cannot modify their data values.\n",
        "\n",
        "Example:\n",
        "\n",
        "Year_monthes = (“January”, “February”, “March”, “April”, “May”, “June”, “July”, “August”, “September”, “October”, “November”, “December”)\n",
        "\n",
        "In order to access specific values of a tuple use their indexes like what we do with a list.\n",
        "\n",
        "so, year_monthes [0] = “January”, & year_monthes [-1] = “December”\n",
        "\n",
        "\n",
        "\n",
        "\n",
        "\n",
        "\n",
        "\n",
        "Del() tuple function:\n",
        "\n",
        "This function will delete the whole tuple\n",
        "\n",
        "[Example]\n",
        "\n",
        "year_monthes = (“January”, “February”, “March”, “April”, “May”, “June”, “July”, “August”, “September”, “October”, “November”, “December”)\n",
        "\n",
        "del year_monthes\n",
        "\n",
        "print (year_monthes)\n",
        "\n",
        "=> NameError: name ' year_monthes ' is not defined\n",
        "\n",
        "\n",
        "\n",
        "\n",
        "\n",
        "\n",
        "\n",
        "In use for tuples:\n",
        "\n",
        "This function will check if an item is in a tuple\n",
        "\n",
        "[Example]\n",
        "\n",
        "year_monthes = (“January”, “February”, “March”, “April”, “May”, “June”, “July”, “August”, “September”, “October”, “November”, “December”)\n",
        "\n",
        "‘1’ in year_monthes\n",
        "\n",
        "=> False\n",
        "\n",
        "‘January’ in year_monthes\n",
        "\n",
        "=> True\n",
        "\n",
        "\n",
        "\n",
        "\n",
        "\n",
        "len( ) tuple function:\n",
        "\n",
        "This function will calculate number of items in tuple.\n",
        "\n",
        "\n",
        "\n",
        "[Example]\n",
        "\n",
        "year_monthes = (“January”, “February”, “March”, “April”, “May”, “June”, “July”, “August”, “September”, “October”, “November”, “December”)\n",
        "\n",
        "print (len(year_monthes))\n",
        "\n",
        ">>> 12\n",
        "\n",
        "\n",
        "\n",
        "\n",
        "\n",
        "\n",
        "\n",
        "Addition of tuples:\n",
        "\n",
        "\n",
        "\n",
        "year_monthes = (“January”, “February”, “March”, “April”, “May”, “June”, “July”, “August”, “September”, “October”, “November”, “December”)\n",
        "\n",
        "print (year_monthes +(1, 2, 3, 4, 5, 6, 7, 8, 9, 10, 11, 12))\n",
        "\n",
        ">>>(“January”, “February”, “March”, “April”, “May”, “June”, “July”, “August”, “September”, “October”, “November”, “December”, 1, 2, 3, 4, 5, 6, 7, 8, 9, 10, 11, 12)\n",
        "\n",
        "\n",
        "\n",
        "\n",
        "\n",
        "multiplication of tuples:\n",
        "\n",
        "\n",
        "\n",
        "year_monthes = (“January”, “February”, “March”, “April”, “May”, “June”, “July”, “August”, “September”, “October”, “November”, “December”)\n",
        "\n",
        "print (year_monthes * 2)\n",
        "\n",
        ">>>(“January”, “February”, “March”, “April”, “May”, “June”, “July”, “August”, “September”, “October”, “November”, “December”, “January”, “February”, “March”, “April”, “May”, “June”, “July”, “August”, “September”, “October”, “November”, “December”)\n",
        "\n",
        "\n",
        "\n",
        "Dictionary : {}\n",
        "\n",
        "Dictionary is group of pairs of data values each pair have two parts\n",
        "\n",
        "Dictionary key and data value {key1:value1, key2:value 2, etc….}\n",
        "\n",
        "Example:\n",
        "\n",
        ">>> User_name_and_car_color = { “David”:”red”, “John”:”green”, ”Sara”: “yellow”}\n",
        "\n",
        "In order to declare a dictionary we use dict() method\n",
        "\n",
        ">>> User_name_and_car_color = dict(David = red, John = green, Sara = yellow)\n",
        "\n",
        "{“David”:”red”, “John”:”green”, ”Sara”: “yellow”}\n",
        "\n",
        "\n",
        "\n",
        "In order to add a new item and print the updated dictionary:\n",
        "\n",
        ">>>user_name_and_car_color[“Kate”] = “black”\n",
        "\n",
        ">>>print(user_name_and_car_color)\n",
        "\n",
        "{“Kate”, “black”, “David”:”red”, “John”:”green”, ”Sara”: “yellow”}\n",
        "\n",
        "In order to remove the item with key = “Kate” and print dictionary:\n",
        "\n",
        ">>>del user_name_and_car_color [“Kate”]\n",
        "\n",
        ">>>print(user_name_and_car_color)\n",
        "\n",
        "{“David”:”red”, “John”:”green”, ”Sara”: “yellow”}\n",
        "\n",
        "\n",
        "\n",
        "\n",
        "\n",
        "\n",
        "\n",
        "Example:\n",
        "\n",
        ">>>Print(user_name_and_car_color)\n",
        "\n",
        "{“David”:”red”, “John”:”green”, ”Sara”: “yellow”}\n",
        "\n",
        "\n",
        "\n",
        "In order to print the item with key = “David” code as following:\n",
        "\n",
        ">>>print(user_name_and_car_color[“David”]) red\n",
        "\n",
        "\n",
        "\n",
        "In order to print the item with key =Sara code as following:\n",
        "\n",
        ">>> print(user_name_and_car_color[“Sara”])\n",
        "\n",
        "yellow\n",
        "\n",
        "\n",
        "\n",
        "In order modify the item with key = John and print the dictionary\n",
        "\n",
        ">>> user_name_and_car_color[“John”] = “white”\n",
        "\n",
        ">>>print(user_name_and_car_color”David”)\n",
        "\n",
        "red\n",
        "\n",
        "\n",
        "\n",
        "\n",
        "\n",
        "\n",
        "\n",
        "Dictionary .get() :\n",
        "\n",
        "returns a value for the given key If the key is not found, it’ll return the keyword None.\n",
        "\n",
        "Example:\n",
        "\n",
        "user_name_and_car_color = {“David”:”red”, “John”:”green”, ”Sara”: “yellow”}\n",
        "\n",
        "print(user_name_and_car_color)\n",
        "\n",
        ">>>{“David”:”red”, “John”:”green”, ”Sara”: “yellow”}\n",
        "\n",
        "print(user_name_and_car_color. get(“John”))\n",
        "\n",
        ">>>green\n",
        "\n",
        "\n",
        "\n",
        "\n",
        "\n",
        "\n",
        "\n",
        "user_name_and_car_color = {“David”:”red”,“John”:”green”, ”Sara”: “yellow”}\n",
        "\n",
        "\n",
        "\n",
        ">>>print(user_name_and_car_color)\n",
        "\n",
        "{“David”:”red”, “John”:”green”, ”Sara”: “yellow”}\n",
        "\n",
        "\n",
        "\n",
        "print(user_name_and_car_color. get(“kate”))\n",
        "\n",
        "None\n",
        "\n",
        "\n",
        "\n",
        "\n",
        "\n",
        "\n",
        "\n",
        "Dictionary .del( ):\n",
        "\n",
        "It delete the whole dictionary.\n",
        "\n",
        "Example:\n",
        "\n",
        ">>> user_name_and_car_color = {“David”:”red”, “John”:”green”, ”Sara”: “yellow”}\n",
        "\n",
        ">>> user_name_and_car_color.del()\n",
        "\n",
        ">>>print (user_name_and_car_color)\n",
        "\n",
        "NameError: name 'dic1' is not defined\n",
        "\n",
        "\n",
        "\n",
        "\n",
        "\n",
        "\n",
        "\n",
        "\n",
        "\n",
        "Dictionary .clear( ):\n",
        "\n",
        "It removes all elements of the dictionary, returning an empty dictionary\n",
        "\n",
        "Example:\n",
        "\n",
        ">>> user_name_and_car_color = {“David”:”red”, “John”:”green”, ”Sara”: “yellow”}\n",
        "\n",
        ">>> user_name_and_car_color.clear()\n",
        "\n",
        ">>>print (user_name_and_car_color)\n",
        "\n",
        "{ }\n",
        "\n",
        "\n",
        "\n",
        "\n",
        "\n",
        "Dictionary In( ):\n",
        "\n",
        "We use it to check if an item is in a dictionary\n",
        "\n",
        "Example:\n",
        "\n",
        ">>>user_name_and_car_color = {“David”:”red”, “John”:”green”, ”Sara”: “yellow”}\n",
        "\n",
        "Use it on the key\n",
        "\n",
        ">>>David in user_name_and_car_color\n",
        "\n",
        "True\n",
        "\n",
        ">>>Kate in user_name_and_car_color\n",
        "\n",
        "False\n",
        "\n",
        "\n",
        "\n",
        "\n",
        "\n",
        "Use It on the value:\n",
        "\n",
        "Example:\n",
        "\n",
        "user_name_and_car_color = {“David”:”red”, “John”:”green”, ”Sara”: “yellow”}\n",
        "\n",
        "‘red’ in user_name_and_car_colo.values()\n",
        "\n",
        "=> True\n",
        "\n",
        "‘black’ in user_name_and_car_colo.values()\n",
        "\n",
        "=> False\n",
        "\n",
        "\n",
        "\n",
        "\n",
        "\n",
        "Dictionary .items( )\n",
        "\n",
        "We use it to return a list of dictionary’s pairs as tuples\n",
        "\n",
        "[Example]\n",
        "\n",
        "user_name_and_car_color = {“David”:”red”, “John”:”green”, ”Sara”: “yellow”}\n",
        "\n",
        "user_name_and_car_color.items()\n",
        "\n",
        ">>> dict_items([(“David”:”red”), (“John”:”green”), (”Sara”: “yellow”)])\n",
        "\n",
        "\n",
        "\n",
        "\n",
        "\n",
        "Dictionary .len( ):\n",
        "\n",
        "We use it to calculate the number of items in a dictionary\n",
        "\n",
        "Example:\n",
        "\n",
        ">>>year_monthes = {“January” : 1, “February” : 2, “March” : 3, “April”: 4, “May”: 5, “June”: 6, “July”: 7, “August”: 8, “September”: 9, “October”: 10, “November”: 11, “December”: 12 }\n",
        "\n",
        ">>> print (len(year_monthes))\n",
        "\n",
        "12\n",
        "\n",
        "\n",
        "\n",
        ">>>\n",
        "\n",
        "\n",
        "\n",
        "Dictionary . update( ):\n",
        "\n",
        "We use this to Add one dictionary’s key-values pairs to another. Duplicates are removed.\n",
        "\n",
        "Example:\n",
        "\n",
        ">>> year_monthes = {“January” : 1, “February” : 2, “March” : 3, “April”: 4, “May”: 5, “June”: 6}\n",
        "\n",
        ">>> second_six_year_monthes = {“July”: 7, “August”: 8, “September”: 9, “October”: 10, “November”: 11, “December”: 12}\n",
        "\n",
        "\n",
        "\n",
        ">>> year_monthes.update(second_six_year_monthes)\n",
        "\n",
        "\n",
        "\n",
        ">>> print (year_monthes)\n",
        "\n",
        "{“January” : 1, “February” : 2, “March” : 3, “April”: 4, “May”: 5, “June”: 6, “July”: 7, “August”: 8, “September”: 9, “October”: 10, “November”: 11, “December”: 12 }\n",
        "\n",
        ">>>print second_six_year_monthes\n",
        "\n",
        "{“July”: 7, “August”: 8, “September”: 9, “October”: 10, “November”: 11, “December”: 12}\n",
        "\n",
        "So there is no change in second_six_year_monthes dictionary.\n",
        "\n",
        "\n",
        "\n",
        "Dictionary . values( )\n",
        "\n",
        "This will returns list of the dictionary's values\n",
        "\n",
        "Example:\n",
        "\n",
        ">>> year_monthes = {“January” : 1, “February” : 2, “March” : 3, “April”: 4, “May”: 5, “June”: 6, “July”: 7, “August”: 8, “September”: 9, “October”: 10, “November”: 11, “December”: 12 }\n",
        "\n",
        ">>>year_monthes.values()\n",
        "\n",
        "dict_values([‘1', ‘2‘, ‘3', ‘4‘, ‘5', ‘6‘, ‘7', ‘8‘, ‘9', ‘10‘, ‘11', ‘12‘])\n",
        "\n",
        "\n",
        "\n",
        "\n",
        "\n",
        "\n",
        "\n",
        "Dictionary . keys( )\n",
        "\n",
        "We use it to returns list of the dictionary's keys\n",
        "\n",
        "[Example]\n",
        "\n",
        ">>> year_monthes = {“January” : 1, “February” : 2, “March” : 3, “April”: 4, “May”: 5, “June”: 6, “July”: 7, “August”: 8, “September”: 9, “October”: 10, “November”: 11, “December”: 12 }\n",
        "\n",
        ">>> year_monthes.keys()\n",
        "\n",
        "dict_keys([“January”, “February”, “March”, “April”, “May”, “June”, “July”, “August”, “September”, “October”, “November”, “December”])\n",
        "\n",
        "\n",
        "\n",
        "\n",
        "\n",
        "\n",
        "\n",
        "Sets:\n",
        "\n",
        "\n",
        "set is data structure, which represents a collection ofspecific elements:\n",
        "set = set()\n",
        "set.add(a)\n",
        "set.add(b)\n",
        "set.add(c)\n",
        "x = len(set) print(x) >>>x= 3\n",
        "y = d in set print(y) >>>y= False\n",
        "z = c in set print(z) >>>z= False\n",
        "\n",
        "\n",
        "\n",
        "\n",
        "Why it is preferred to use sets?\n",
        "\n",
        "1. It is a very fast code operation on sets than lists.\n",
        "2. set is it more appropriate than a list, If we have a large collection of items that we want to use for elements presence in set test:\n",
        "\n",
        ">>> x = [1,2,3,4,5,6,7,8,9,10]\n",
        "\n",
        "\n",
        "\n",
        ">>>print(1 in set(x), 15 in set(x),20 in set(x))\n",
        "\n",
        "\n",
        "(True, False, False)\n",
        "\n",
        "\n",
        "\n",
        "\n",
        "\n",
        "\n",
        "\n",
        "\n"
      ],
      "metadata": {
        "id": "jo2tMF29QEMG"
      }
    },
    {
      "cell_type": "code",
      "source": [
        ""
      ],
      "metadata": {
        "id": "pO-YMk_lPhbE"
      },
      "execution_count": null,
      "outputs": []
    }
  ]
}